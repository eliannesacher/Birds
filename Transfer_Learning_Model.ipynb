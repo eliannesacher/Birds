{
 "cells": [
  {
   "cell_type": "markdown",
   "metadata": {
    "id": "-WpgBqHS05u9"
   },
   "source": [
    "# <img style=\"float: left; padding-right: 10px; width: 45px\" src=\"https://raw.githubusercontent.com/Harvard-IACS/2018-CS109A/master/content/styles/iacs.png\"> CS109B Advanced Topics in Data Science\n",
    "\n",
    "## **Transfer Learning using WAV2VEC2.0**\n",
    "\n",
    "\n",
    "**Harvard University**<br/>\n",
    "**Spring 2024**<br/>\n",
    "**Instructors**: Pavlos Protopapas<br/>\n",
    "**Project Members**: Elianne Sacher, Shane Kissinger, and Oleg Pavliv"
   ]
  },
  {
   "cell_type": "code",
   "execution_count": 1,
   "metadata": {
    "colab": {
     "base_uri": "https://localhost:8080/",
     "height": 17
    },
    "id": "--nIVkXC12zf",
    "outputId": "f8b17e96-42e3-4dc6-9151-6a1afb2a65f8"
   },
   "outputs": [
    {
     "data": {
      "text/html": [
       "<style>\n",
       "blockquote { background: #AEDE94; }\n",
       "h1 {\n",
       "    padding-top: 25px;\n",
       "    padding-bottom: 25px;\n",
       "    text-align: left;\n",
       "    padding-left: 10px;\n",
       "    background-color: #63ACBE;\n",
       "    color: black;\n",
       "}\n",
       "h2 {\n",
       "    padding-top: 10px;\n",
       "    padding-bottom: 10px;\n",
       "    text-align: left;\n",
       "    padding-left: 5px;\n",
       "    background-color: #EEEEEE;\n",
       "    color: black;\n",
       "}\n",
       "\n",
       "div.exercise {\n",
       "\tbackground-color: #f8b4ab;\n",
       "\tborder-color: #E9967A;\n",
       "\tborder-left: 5px solid #601A4A;\n",
       "\tpadding: 0.5em;\n",
       "}\n",
       "\n",
       "div.exercise-r {\n",
       "\tbackground-color: #ffd0d0;\n",
       "\tborder-color: #E9967A;\n",
       "\tborder-left: 5px solid #601A4A;\n",
       "\tpadding: 0.5em;\n",
       "}\n",
       "\n",
       "\n",
       "span.sub-q {\n",
       "\tfont-weight: bold;\n",
       "}\n",
       "div.theme {\n",
       "\tbackground-color: #63ACBE;\n",
       "\tborder-color: #E9967A;\n",
       "\tborder-left: 5px solid #601A4A;\n",
       "\tpadding: 0.5em;\n",
       "\tfont-size: 18pt;\n",
       "}\n",
       "div.gc {\n",
       "\tbackground-color: #AEDE94;\n",
       "\tborder-color: #E9967A;\n",
       "\tborder-left: 5px solid #601A4A;\n",
       "\tpadding: 0.5em;\n",
       "\tfont-size: 12pt;\n",
       "}\n",
       "p.q1 {\n",
       "    padding-top: 5px;\n",
       "    padding-bottom: 5px;\n",
       "    text-align: left;\n",
       "    padding-left: 5px;\n",
       "    background-color: #EEEEEE;\n",
       "    color: black;\n",
       "}\n",
       "header {\n",
       "   padding-top: 35px;\n",
       "    padding-bottom: 35px;\n",
       "    text-align: left;\n",
       "    padding-left: 10px;\n",
       "    background-color: #DDDDDD;\n",
       "    color: black;\n",
       "}\n",
       "span.emph {\n",
       "\tcolor: #601A4A;\n",
       "\tfont-weight: bold;\n",
       "}\n",
       "\n",
       "</style>\n"
      ],
      "text/plain": [
       "<IPython.core.display.HTML object>"
      ]
     },
     "execution_count": 1,
     "metadata": {},
     "output_type": "execute_result"
    }
   ],
   "source": [
    "# RUN THIS CELL\n",
    "import requests\n",
    "from IPython.core.display import HTML\n",
    "styles = requests.get(\n",
    "    \"https://raw.githubusercontent.com/Harvard-IACS/2021-CS109A/master/\"\n",
    "    \"themes/static/css/cs109.css\"\n",
    ").text\n",
    "HTML(styles)"
   ]
  },
  {
   "cell_type": "code",
   "execution_count": 2,
   "metadata": {
    "id": "eceYzwo916Pq"
   },
   "outputs": [
    {
     "name": "stderr",
     "output_type": "stream",
     "text": [
      "2024-05-08 15:07:05.011128: I tensorflow/core/util/port.cc:113] oneDNN custom operations are on. You may see slightly different numerical results due to floating-point round-off errors from different computation orders. To turn them off, set the environment variable `TF_ENABLE_ONEDNN_OPTS=0`.\n",
      "2024-05-08 15:07:05.056676: E external/local_xla/xla/stream_executor/cuda/cuda_dnn.cc:9261] Unable to register cuDNN factory: Attempting to register factory for plugin cuDNN when one has already been registered\n",
      "2024-05-08 15:07:05.056711: E external/local_xla/xla/stream_executor/cuda/cuda_fft.cc:607] Unable to register cuFFT factory: Attempting to register factory for plugin cuFFT when one has already been registered\n",
      "2024-05-08 15:07:05.057835: E external/local_xla/xla/stream_executor/cuda/cuda_blas.cc:1515] Unable to register cuBLAS factory: Attempting to register factory for plugin cuBLAS when one has already been registered\n",
      "2024-05-08 15:07:05.065139: I tensorflow/core/platform/cpu_feature_guard.cc:182] This TensorFlow binary is optimized to use available CPU instructions in performance-critical operations.\n",
      "To enable the following instructions: AVX2 AVX512F AVX512_VNNI FMA, in other operations, rebuild TensorFlow with the appropriate compiler flags.\n"
     ]
    }
   ],
   "source": [
    "# Import libraries\n",
    "import time\n",
    "start_time = time.time() \n",
    "import requests\n",
    "import zipfile\n",
    "import io, os\n",
    "import pickle\n",
    "\n",
    "import seaborn as sns\n",
    "import matplotlib.pyplot as plt\n",
    "import pandas as pd\n",
    "import numpy as np\n",
    "import sys\n",
    "import scipy as sp\n",
    "\n",
    "from sklearn.model_selection import train_test_split\n",
    "from sklearn.decomposition import PCA\n",
    "import sklearn as sk\n",
    "\n",
    "from tensorflow import keras\n",
    "from tensorflow.keras.layers import Input, Dense, Flatten, Activation, BatchNormalization, Flatten, Dropout, GaussianNoise, RandomContrast, Conv2D, MaxPool2D, UpSampling2D\n",
    "from tensorflow.keras.models import Model\n",
    "from tensorflow.keras.preprocessing.image import ImageDataGenerator\n",
    "from tensorflow.keras.callbacks import EarlyStopping, LambdaCallback\n",
    "from tensorflow.keras.regularizers import L1, L2\n",
    "from tensorflow.keras.optimizers.legacy import Adam\n",
    "from tensorflow.keras.preprocessing import image\n",
    "from tensorflow.keras import Sequential\n",
    "from tensorflow.keras.utils import plot_model\n",
    "from tensorflow.keras.utils import to_categorical\n",
    "from tensorflow.keras.optimizers import Adam\n",
    "import tensorflow as tf\n",
    "\n",
    "from PIL import Image\n",
    "from io import BytesIO\n",
    "\n",
    "import torch\n",
    "import torchaudio\n",
    "import soundfile as sf\n",
    "from torchaudio.transforms import Resample\n",
    "from torch.utils.data import DataLoader, TensorDataset, WeightedRandomSampler\n",
    "from sklearn.model_selection import train_test_split\n",
    "from transformers import AutoFeatureExtractor, AutoModelForAudioClassification, Wav2Vec2Processor, TrainingArguments, Trainer\n",
    "from sklearn.preprocessing import LabelEncoder\n",
    "\n",
    "import evaluate\n",
    "from tqdm import tqdm\n",
    "import gc  # Garbage collection module\n",
    "import re  # Regular expressions for text processing\n",
    "tqdm.pandas()\n",
    "\n",
    "from sklearn.utils.class_weight import compute_class_weight\n",
    "from datasets import concatenate_datasets, Dataset, load_dataset, Image, ClassLabel, load_from_disk, DatasetDict\n",
    "\n",
    "import torch.nn as nn\n",
    "import itertools\n",
    "import shutil\n",
    "import librosa\n",
    "\n",
    "from sklearn.metrics import (accuracy_score, roc_auc_score, confusion_matrix, classification_report, f1_score)\n",
    "\n",
    "import warnings\n",
    "# Suppress specific FutureWarning\n",
    "warnings.simplefilter(action='ignore', category=FutureWarning)\n",
    "warnings.simplefilter(\"ignore\")"
   ]
  },
  {
   "cell_type": "markdown",
   "metadata": {},
   "source": [
    "### Preprocessing and audio sample download"
   ]
  },
  {
   "cell_type": "code",
   "execution_count": 3,
   "metadata": {},
   "outputs": [
    {
     "name": "stdout",
     "output_type": "stream",
     "text": [
      "Folder './mlruns' does not exist.\n",
      "Folder './bird_sounds_classification' does not exist.\n"
     ]
    }
   ],
   "source": [
    "# Previous checkpoints to clear \n",
    "folder_paths = ['./mlruns', './bird_sounds_classification']\n",
    "\n",
    "# Iterate through the list of folder paths\n",
    "for folder_path in folder_paths:\n",
    "    try:\n",
    "        # Check if the directory exists\n",
    "        if os.path.exists(folder_path):\n",
    "            # Remove the directory and all its contents\n",
    "            shutil.rmtree(folder_path)\n",
    "            print(f\"Folder '{folder_path}' has been deleted.\")\n",
    "        else:\n",
    "            print(f\"Folder '{folder_path}' does not exist.\")\n",
    "    except Exception as e:\n",
    "        print(f\"Failed to delete '{folder_path}'. Error: {e}\")"
   ]
  },
  {
   "cell_type": "code",
   "execution_count": 4,
   "metadata": {},
   "outputs": [],
   "source": [
    "# Load df_merged_clean from directory if needed \n",
    "if 'df_merged_clean' not in locals():\n",
    "    df_merged_clean = pd.read_csv(\"merged_clean.csv\")"
   ]
  },
  {
   "cell_type": "code",
   "execution_count": 5,
   "metadata": {},
   "outputs": [],
   "source": [
    "species_list = [\"Parus major\", \"Phylloscopus collybita\", \"Cyanistes caeruleus\", \"Passer montanus\", \"Fringilla coelebs\", \"Passer domesticus\", \"Erithacus rubecula\", \"Aegithalos caudatus\", \"Strix aluco\", \"Corvus corax\"]  \n",
    "species_dfs = [df_merged_clean[df_merged_clean[\"species\"] == species_list[i]] for i in range(len(species_list))]"
   ]
  },
  {
   "cell_type": "code",
   "execution_count": 6,
   "metadata": {
    "scrolled": true
   },
   "outputs": [],
   "source": [
    "\n",
    "# Downloads specified number of files per class\n",
    "def download_mp3(url):\n",
    "    response = requests.get(url)\n",
    "    if response.status_code == 200:\n",
    "        return response.content\n",
    "    else:\n",
    "        return None\n",
    "\n",
    "def download_species(df, species_class, max_files=20):\n",
    "    folder_path = f\"./sounds/{species_class}/\"\n",
    "    os.makedirs(folder_path, exist_ok=True)  # Ensure the directory exists\n",
    "    current_sounds = set(os.listdir(folder_path))\n",
    "    download_count = 0\n",
    "    \n",
    "    for i, row in df.iterrows():\n",
    "        if download_count >= max_files:\n",
    "            break  # Stop downloading after reaching the max_files limit\n",
    "        \n",
    "        url = row[\"identifier\"]\n",
    "        gbifID = row[\"gbifID\"]\n",
    "        sound_name = f\"{gbifID}.mp3\"\n",
    "        \n",
    "        if sound_name in current_sounds:\n",
    "            continue\n",
    "        \n",
    "        try:\n",
    "            sound = download_mp3(url)\n",
    "        except Exception as e:\n",
    "            print(f\"species class: {species_class} count: {download_count} gbifID: {gbifID} | failed downloading due to {e}\")\n",
    "            continue\n",
    "    \n",
    "        if sound is None:\n",
    "            print(f\"species class: {species_class} count: {download_count} gbifID: {gbifID} | download returned None\")\n",
    "            continue\n",
    "    \n",
    "        save_path = os.path.join(folder_path, sound_name)\n",
    "        with open(save_path, 'wb') as f:\n",
    "            f.write(sound)\n",
    "        print(f\"species class: {species_class} count: {download_count} gbifID: {gbifID} | downloaded\")\n",
    "        download_count += 1\n",
    "\n",
    "# # Execute downloads\n",
    "# for i in range(len(species_list)):\n",
    "#     download_species(species_dfs[i], i, 700)\n"
   ]
  },
  {
   "cell_type": "markdown",
   "metadata": {},
   "source": [
    "## Transfer Learning Model Using WAV2VEC2"
   ]
  },
  {
   "cell_type": "markdown",
   "metadata": {},
   "source": [
    "### Description\n",
    "\n",
    "Wav2Vec 2.0 is a self-supervised learning framework for speech recognition developed by Facebook AI, which learns powerful representations from raw audio data by capturing contextual information from speech. Here I will use it as a model for a pipeline utilizing a transformers.trainer module to get sufficient accuracy, while limiting the number of whole mp3 files per class to conserve compute."
   ]
  },
  {
   "cell_type": "markdown",
   "metadata": {},
   "source": [
    "### Processing for transfer learning \n",
    "In order to use transfer learning model WAV2VEC2, paths to mp3 files will be loaded to df along with their respective labels. The will be translated to Pytorch dataset, which will hold each actual numpy array representing the audio file and its class label. Torch tensor will be used as a storage format. Data is pre-processed to ensure 16 kHz sample frequency and librosa's silent threshold is used to get rid of silent segments with 25dB bellow peak sensitivity. "
   ]
  },
  {
   "cell_type": "code",
   "execution_count": 7,
   "metadata": {
    "scrolled": true
   },
   "outputs": [
    {
     "data": {
      "text/plain": [
       "120"
      ]
     },
     "execution_count": 7,
     "metadata": {},
     "output_type": "execute_result"
    }
   ],
   "source": [
    "# Setting number of audiofiles to be segmented #150\n",
    "num_files_per_folder = 250 \n",
    "\n",
    "# Constants for resampling and segment length \n",
    "RATE_HZ = 16000\n",
    "MAX_SECONDS = 10\n",
    "MAX_LENGTH = RATE_HZ * MAX_SECONDS\n",
    "\n",
    "# Function to load audio and filter out silent intervals\n",
    "def load_and_filter_audio(mp3_path, silence_threshold=25):\n",
    "    # Load the audio file\n",
    "    y, sr = librosa.load(mp3_path, sr=None)  # Load with the native sampling rate\n",
    "\n",
    "    # Detect non-silent intervals based on the threshold\n",
    "    non_silent_intervals = librosa.effects.split(y, top_db=silence_threshold)\n",
    "\n",
    "    # Concatenate non-silent intervals into a single array\n",
    "    filtered_audio = np.concatenate([y[start:end] for start, end in non_silent_intervals])\n",
    "\n",
    "    # Convert numpy array back to torch tensor\n",
    "    filtered_audio = torch.from_numpy(filtered_audio).float()\n",
    "\n",
    "    return filtered_audio, sr\n",
    "\n",
    "# Load and process audio using PyTorch\n",
    "def load_and_process_audio(directory, label, max_files=None):\n",
    "    files = os.listdir(directory)\n",
    "    if max_files is not None:\n",
    "        files = files[:max_files]  # Limit the number of files to process\n",
    "    df_list = []\n",
    "\n",
    "    for file in tqdm(files):\n",
    "        if file.endswith('.mp3'):\n",
    "            file_path = os.path.join(directory, file)\n",
    "            try:\n",
    "                # Load and filter the audio to remove silence\n",
    "                audio, rate = load_and_filter_audio(file_path)\n",
    "                \n",
    "                # Check if any audio is left after filtering silence\n",
    "                if audio.size == 0:\n",
    "                    print(f\"No audio left after filtering silence in file: {file_path}\")\n",
    "                    continue\n",
    "                \n",
    "                # Resample if needed\n",
    "                if rate != RATE_HZ:\n",
    "                    transform = torchaudio.transforms.Resample(rate, RATE_HZ)\n",
    "                    audio = transform(audio)\n",
    "                \n",
    "                \n",
    "                audio, rate = torchaudio.load(file_path)\n",
    "                num_segments = len(audio[0]) // MAX_LENGTH\n",
    "                segmented_audio = []\n",
    "\n",
    "                for i in range(num_segments):\n",
    "                    start = i * MAX_LENGTH\n",
    "                    end = min((i + 1) * MAX_LENGTH, len(audio[0]))\n",
    "                    segment = audio[0][start:end]\n",
    "                    transform = torchaudio.transforms.Resample(rate, RATE_HZ)\n",
    "                    segment = transform(segment).squeeze(0).numpy().reshape(-1)\n",
    "                    segmented_audio.append(segment)\n",
    "\n",
    "                if segmented_audio:\n",
    "                    df_segments = pd.DataFrame({'audio': segmented_audio, 'label': [label] * len(segmented_audio)})\n",
    "                    df_list.append(df_segments)\n",
    "                    gc.collect()\n",
    "            except Exception as e:\n",
    "                print(f\"Error processing file {file_path}: {e}\")\n",
    "\n",
    "    return pd.concat(df_list, axis=0) if df_list else pd.DataFrame()\n",
    "\n",
    "base_folder = \"./sounds\"\n",
    "all_species_dfs = []\n",
    "\n",
    "# for label in range(10): \n",
    "#     directory_path = os.path.join(base_folder, str(label))\n",
    "#     if os.path.isdir(directory_path):\n",
    "#         species_df = load_and_process_audio(directory_path, label, max_files=num_files_per_folder)\n",
    "#         all_species_dfs.append(species_df)\n",
    "\n",
    "# # Create a single DataFrame to prepare for port to PyTorch dataset\n",
    "# df = pd.concat(all_species_dfs, axis=0)\n",
    "# print(df.sample(5))\n",
    "\n",
    "# Clears carbage from memory\n",
    "gc.collect()"
   ]
  },
  {
   "cell_type": "markdown",
   "metadata": {},
   "source": [
    "We truncated the dataframe to 3000 segments per class to balance accuracy with conserving computational resources and speed. "
   ]
  },
  {
   "cell_type": "code",
   "execution_count": 8,
   "metadata": {
    "scrolled": true
   },
   "outputs": [],
   "source": [
    "# # Selecting rows in the DataFrame where the 'audio' column is not null\n",
    "# df = df[~df['audio'].isnull()]\n",
    "\n",
    "# print(\"class counts before truncation:\\n\") \n",
    "# print(df.groupby('label').size())\n",
    "\n",
    "# # Limiting to a specific nummber of segments per class\n",
    "# truncated_df = df.groupby('label').head(3000)\n",
    "# df = truncated_df\n",
    "# print(\"class counts after truncation:\\n\") \n",
    "# print(df.groupby('label').size())"
   ]
  },
  {
   "cell_type": "code",
   "execution_count": 9,
   "metadata": {},
   "outputs": [],
   "source": [
    "# # Mapping and replacing from numeric labels back to species names\n",
    "# label_to_species = {i: name for i, name in enumerate(species_list)}\n",
    "# df['label'] = df['label'].replace(label_to_species)\n",
    "\n",
    "# # Sample from the updated DataFrame to verify changes\n",
    "# print(df.sample(5))"
   ]
  },
  {
   "cell_type": "markdown",
   "metadata": {},
   "source": [
    "The progress was restarted from a checkpoint due to kernel instability. "
   ]
  },
  {
   "cell_type": "code",
   "execution_count": 10,
   "metadata": {},
   "outputs": [],
   "source": [
    "# Checkpoint\n",
    "# df.to_csv(\"audio_processed_metadata.csv\", index=False)\n",
    "df = pd.read_csv(\"audio_processed_metadata.csv\")"
   ]
  },
  {
   "cell_type": "code",
   "execution_count": 11,
   "metadata": {},
   "outputs": [
    {
     "name": "stdout",
     "output_type": "stream",
     "text": [
      "class counts after truncation:\n",
      "\n",
      "\n",
      "label\n",
      "Aegithalos caudatus       3000\n",
      "Corvus corax              3000\n",
      "Cyanistes caeruleus       3000\n",
      "Erithacus rubecula        3000\n",
      "Fringilla coelebs         3000\n",
      "Parus major               3000\n",
      "Passer domesticus         3000\n",
      "Passer montanus           3000\n",
      "Phylloscopus collybita    3000\n",
      "Strix aluco               3000\n",
      "dtype: int64\n"
     ]
    }
   ],
   "source": [
    "print(\"class counts after truncation:\\n\\n\") \n",
    "print(df.groupby('label').size())"
   ]
  },
  {
   "cell_type": "code",
   "execution_count": 12,
   "metadata": {
    "scrolled": true
   },
   "outputs": [],
   "source": [
    "# Port to dataset in chunks to save memory\n",
    "gc.collect()\n",
    "chunk_size = 100\n",
    "datasets = []\n",
    "for i in range(0, len(df), chunk_size):\n",
    "    chunk_dataset = Dataset.from_pandas(df.iloc[i:i + chunk_size])\n",
    "    datasets.append(chunk_dataset)\n",
    "    gc.collect()\n",
    "\n",
    "# Concatenating all the datasets into one\n",
    "dataset = concatenate_datasets(datasets)"
   ]
  },
  {
   "cell_type": "markdown",
   "metadata": {},
   "source": [
    "### Handing class imbalance \n",
    "\n",
    "While undersampling overweight classes is a method we selected in this pipeline, we would like to simulate running the model on a complete database in which case not using available data would be suboptimal. Therefore, we included robust way to handle class imbalance in future use of this pipeline. The function compute_class_weight from a scikit-learn library is used here with the parameter class_weight='balanced'. This function calculates weights for each class such that smaller classes get a higher weight and larger classes get a lower weight. The formula typically used ensures that each class contributes equally to the model's loss during training, thus compensating for imbalances in the dataset.\n",
    "\n",
    "The weights are then taken into account as an imput to torch.nn crossentropy function to adjust the weight of each sample during the training. "
   ]
  },
  {
   "cell_type": "code",
   "execution_count": 13,
   "metadata": {},
   "outputs": [
    {
     "name": "stdout",
     "output_type": "stream",
     "text": [
      "{'Aegithalos caudatus': 1.0, 'Corvus corax': 1.0, 'Cyanistes caeruleus': 1.0, 'Erithacus rubecula': 1.0, 'Fringilla coelebs': 1.0, 'Parus major': 1.0, 'Passer domesticus': 1.0, 'Passer montanus': 1.0, 'Phylloscopus collybita': 1.0, 'Strix aluco': 1.0}\n"
     ]
    }
   ],
   "source": [
    "classes = np.unique(df[['label']])\n",
    "\n",
    "weights = compute_class_weight(class_weight='balanced', classes=classes, y=df['label'])\n",
    "\n",
    "# Create a dictionary mapping each class to its respective class weight.\n",
    "class_weights = dict(zip(classes, weights))\n",
    "\n",
    "# Print the computed class weights to the console.\n",
    "print(class_weights)"
   ]
  },
  {
   "cell_type": "code",
   "execution_count": 14,
   "metadata": {},
   "outputs": [],
   "source": [
    "# Create a list of unique labels\n",
    "labels_list = sorted(list(df['label'].unique()))\n",
    "\n",
    "# Initialize empty dictionaries to map labels to IDs and vice versa\n",
    "label2id, id2label = dict(), dict()\n",
    "\n",
    "# Iterate over the unique labels and assign each label an ID, and vice versa\n",
    "for i, label in enumerate(labels_list):\n",
    "    label2id[label] = i  # Map the label to its corresponding ID\n",
    "    id2label[i] = label  # Map the ID to its corresponding label"
   ]
  },
  {
   "cell_type": "markdown",
   "metadata": {},
   "source": [
    "Bellow, we create ClassLabels to be used by the trainer and split PyTorch dataset into 0.1 train-test split."
   ]
  },
  {
   "cell_type": "code",
   "execution_count": 15,
   "metadata": {},
   "outputs": [
    {
     "data": {
      "application/vnd.jupyter.widget-view+json": {
       "model_id": "ca4a9c5a6d864142b2727a19cf88bc5e",
       "version_major": 2,
       "version_minor": 0
      },
      "text/plain": [
       "Casting the dataset:   0%|          | 0/19612 [00:00<?, ? examples/s]"
      ]
     },
     "metadata": {},
     "output_type": "display_data"
    }
   ],
   "source": [
    "# Creating classlabels to match labels to IDs\n",
    "ClassLabels = ClassLabel(num_classes=len(labels_list), names=labels_list)\n",
    "\n",
    "# Mapping labels to IDs\n",
    "def map_label2id(example):\n",
    "    example['label'] = ClassLabels.str2int(example['label'])\n",
    "    return example\n",
    "\n",
    "gc.collect()\n",
    "\n",
    "dataset = dataset.map(map_label2id, batched=True, batch_size=32, writer_batch_size=32, cache_file_name='mapped_dataset')\n",
    "\n",
    "\n",
    "# Casting label column to ClassLabel Object\n",
    "dataset = dataset.cast_column('label', ClassLabels)\n",
    "\n",
    "# Define the fraction of records to be used for testing data\n",
    "TEST_SIZE = 0.1\n",
    "\n",
    "# Splitting the dataset into training and testing sets using the predefined train/test split ratio.\n",
    "dataset = dataset.train_test_split(test_size=TEST_SIZE, shuffle=True, stratify_by_column=\"label\")"
   ]
  },
  {
   "cell_type": "markdown",
   "metadata": {},
   "source": [
    "We use Wav2vec2 model with pre-trained weights that we will subsequently fine-tune. Feature extractor is also specified. AutoFeatureExtractor is part of the Hugging Face Transformers library. It's used to automatically select the appropriate feature extractor for a given pretrained model based on the model's architecture. This feature extractor is responsible for converting the audio signals into a format that the model can process. For example, in the context of Wav2Vec 2.0, the feature extractor handles tasks such as sampling rate conversion and audio normalization.The method .from_pretrained(model_str) initializes the feature extractor with the configuration that was used during the training of the model specified by model_str. This ensures that the input to the model is processed in exactly the same way as it was during training. "
   ]
  },
  {
   "cell_type": "code",
   "execution_count": 16,
   "metadata": {},
   "outputs": [
    {
     "name": "stderr",
     "output_type": "stream",
     "text": [
      "Some weights of the model checkpoint at facebook/wav2vec2-base-960h were not used when initializing Wav2Vec2ForSequenceClassification: ['lm_head.weight', 'lm_head.bias']\n",
      "- This IS expected if you are initializing Wav2Vec2ForSequenceClassification from the checkpoint of a model trained on another task or with another architecture (e.g. initializing a BertForSequenceClassification model from a BertForPreTraining model).\n",
      "- This IS NOT expected if you are initializing Wav2Vec2ForSequenceClassification from the checkpoint of a model that you expect to be exactly identical (initializing a BertForSequenceClassification model from a BertForSequenceClassification model).\n",
      "Some weights of Wav2Vec2ForSequenceClassification were not initialized from the model checkpoint at facebook/wav2vec2-base-960h and are newly initialized: ['classifier.bias', 'projector.bias', 'classifier.weight', 'projector.weight', 'wav2vec2.masked_spec_embed']\n",
      "You should probably TRAIN this model on a down-stream task to be able to use it for predictions and inference.\n"
     ]
    },
    {
     "name": "stdout",
     "output_type": "stream",
     "text": [
      "94.571146\n"
     ]
    }
   ],
   "source": [
    "# Specify the pre-trained model you want to use.\n",
    "model_str =\"facebook/wav2vec2-base-960h\" #\"facebook/wav2vec2-base-960h\"\n",
    "\n",
    "# Create an instance of the feature extractor for audio.\n",
    "feature_extractor = AutoFeatureExtractor.from_pretrained(model_str)\n",
    "\n",
    "# Create an instance of the audio classification model.\n",
    "# The 'num_labels' parameter is set to the number of labels in your 'labels_list'.\n",
    "model = AutoModelForAudioClassification.from_pretrained(model_str, num_labels=len(labels_list))\n",
    "\n",
    "# Set the 'id2label' mapping in the model's configuration. This maps label IDs to human-readable labels.\n",
    "model.config.id2label = id2label\n",
    "\n",
    "# Calculate and print the number of trainable parameters in the model (in millions).\n",
    "# This provides an estimate of the model's size.\n",
    "print(model.num_parameters(only_trainable=True) / 1e6)"
   ]
  },
  {
   "cell_type": "markdown",
   "metadata": {},
   "source": [
    "Bellow, the preprocessing function is defined using a feature extractor. The preprocessing function is then applied to both the 'train' and 'test' splits of a dataset, removing the original 'audio' column, thereby preparing the data for input into a machine learning model, ensuring it is batched appropriately to optimize processing efficiency."
   ]
  },
  {
   "cell_type": "code",
   "execution_count": 17,
   "metadata": {
    "scrolled": true
   },
   "outputs": [
    {
     "data": {
      "application/vnd.jupyter.widget-view+json": {
       "model_id": "4bb5d4410c044b2f9aca8679012052ab",
       "version_major": 2,
       "version_minor": 0
      },
      "text/plain": [
       "Map:   0%|          | 0/17650 [00:00<?, ? examples/s]"
      ]
     },
     "metadata": {},
     "output_type": "display_data"
    },
    {
     "data": {
      "application/vnd.jupyter.widget-view+json": {
       "model_id": "1653355488a94838bf2e6421ddf446a5",
       "version_major": 2,
       "version_minor": 0
      },
      "text/plain": [
       "Map:   0%|          | 0/1962 [00:00<?, ? examples/s]"
      ]
     },
     "metadata": {},
     "output_type": "display_data"
    }
   ],
   "source": [
    "# Define a preprocessing function for the dataset\n",
    "def preprocess_function(batch):\n",
    "    # Extract audio features from the input batch using the feature_extractor\n",
    "    inputs = feature_extractor(batch['audio'], sampling_rate=RATE_HZ, max_length=MAX_LENGTH, truncation=True)\n",
    "    \n",
    "    # Extract and store only the 'input_values' component from the extracted features\n",
    "    inputs['input_values'] = inputs['input_values'][0]\n",
    "    return inputs\n",
    "\n",
    "# Apply the preprocess_function to the 'train' split of the dataset, removing the 'audio' column\n",
    "dataset['train'] = dataset['train'].map(preprocess_function, remove_columns=\"audio\", batched=False, batch_size=32, writer_batch_size=32)\n",
    "\n",
    "# Apply the same preprocess_function to the 'test' split of the dataset, removing the 'audio' column\n",
    "dataset['test'] = dataset['test'].map(preprocess_function, remove_columns=\"audio\", batched=False, batch_size=32, writer_batch_size=32)"
   ]
  },
  {
   "cell_type": "code",
   "execution_count": 18,
   "metadata": {},
   "outputs": [],
   "source": [
    "# Load the \"accuracy\" metric using the evaluate.load() function.\n",
    "accuracy = evaluate.load(\"accuracy\")\n",
    "\n",
    "# Define a function to compute evaluation metrics, which takes eval_pred as input.\n",
    "def compute_metrics(eval_pred):\n",
    "    # Extract the model's predictions from eval_pred.\n",
    "    predictions = eval_pred.predictions\n",
    "    \n",
    "    # Apply the softmax function to convert prediction scores into probabilities.\n",
    "    predictions = np.exp(predictions) / np.exp(predictions).sum(axis=1, keepdims=True)\n",
    "    \n",
    "    # Extract the true label IDs from eval_pred.\n",
    "    label_ids = eval_pred.label_ids\n",
    "    \n",
    "    # Calculate accuracy using the loaded accuracy metric by comparing predicted classes\n",
    "    # (argmax of probabilities) with the true label IDs.\n",
    "    acc_score = accuracy.compute(predictions=predictions.argmax(axis=1), references=label_ids)['accuracy']\n",
    "    \n",
    "    # Return the computed accuracy as a dictionary with a key \"accuracy.\"\n",
    "    return {\n",
    "        \"accuracy\": acc_score\n",
    "    }"
   ]
  },
  {
   "cell_type": "markdown",
   "metadata": {},
   "source": [
    "### Model hyperparameters and configuration\n",
    "Here we will discuss our reasoning behind the chosen hyperparameters. The batch size of 4 balances the need to save memory, which is especially significant considering the size of WAV2VEC2 with 94 mil parameters, while processing enough data to update the model effectively. Warmup steps set at 50 help the model start learning gradually by increasing the learning rate slowly at the beginning, which helps in avoiding early mistakes that could derail the training process. The weight decay of 0.02 helps prevent the model from relying too heavily on any single or small group of features, which can lead to overfitting, where the model performs well on training data but poorly on unseen data. 7 training epochs provide a reasonable amount of learning cycles to train sufficiently without spending too much time going over the same data repeatedly.\r\n",
    "\r\n",
    "The TrainingArguments configuration is designed to keep a close watch on how the model trains, with detailed logging and evaluation after every epoch to monitor progress and make adjustments if necessary. Features like gradient accumulation and checkpointing help manage memory better and ensure training doesn’t have to start over from scratch after a pause or interruption. Reporting to MLflow is set up to keep track of different training experiments, which is helpful for comparing and analyzing different training settings. Finally, the CustomTrainer is important for managing data imbalance—where some bird sounds might be rarer than others—by adjusting the importance given to each type during training, ensuring a fair learning process."
   ]
  },
  {
   "cell_type": "code",
   "execution_count": 19,
   "metadata": {},
   "outputs": [],
   "source": [
    "# Define the batch size for training data\n",
    "batch_size = 4\n",
    "\n",
    "# Define the number of warmup steps for learning rate scheduling\n",
    "warmup_steps = 50\n",
    "\n",
    "# Define the weight decay for regularization\n",
    "weight_decay = 0.02\n",
    "\n",
    "# Define the number of training epochs\n",
    "num_train_epochs = 12\n",
    "\n",
    "# Define the name for the model directory\n",
    "model_name = \"bird_sounds_classification\"\n",
    "\n",
    "# Create TrainingArguments object to configure the training process\n",
    "training_args = TrainingArguments(\n",
    "    output_dir=model_name,  # Directory to save the model\n",
    "    logging_dir='./logs',  # Directory for training logs\n",
    "    num_train_epochs=num_train_epochs,  # Number of training epochs\n",
    "    per_device_train_batch_size=batch_size,  # Batch size for training\n",
    "    per_device_eval_batch_size=batch_size,  # Batch size for evaluation\n",
    "    learning_rate=3e-6,  # Learning rate for training\n",
    "    logging_strategy='steps',  # Log at specified steps\n",
    "    logging_first_step=True,  # Log the first step\n",
    "    load_best_model_at_end=True,  # Load the best model at the end of training\n",
    "    logging_steps=1,  # Log every step\n",
    "    evaluation_strategy='epoch',  # Evaluate at the end of each epoch\n",
    "    warmup_steps=warmup_steps,  # Number of warmup steps for learning rate\n",
    "    weight_decay=weight_decay,  # Weight decay for regularization\n",
    "    eval_steps=1,  # Evaluate every step\n",
    "    gradient_accumulation_steps=1,  # Number of gradient accumulation steps\n",
    "    gradient_checkpointing=True,  # Enable gradient checkpointing\n",
    "    save_strategy='epoch',  # Save model at the end of each epoch\n",
    "    save_total_limit=1,  # Limit the number of saved checkpoints\n",
    "    report_to=\"mlflow\",  # Log training information to MLflow\n",
    ")\n",
    "# Create a custom trainer that considers weights for handling imbalance\n",
    "class CustomTrainer(Trainer):\n",
    "    def compute_loss(self, model, inputs, return_outputs=False):\n",
    "        labels = inputs.get(\"labels\")\n",
    "        outputs = model(**inputs)\n",
    "        logits = outputs.get('logits')\n",
    "        # Convert class_weights dictionary to a tensor\n",
    "        weights = torch.tensor(list(class_weights.values()), dtype=torch.float, device=logits.device)\n",
    "        loss_fct = nn.CrossEntropyLoss(weight=weights) # Custom weights entered here\n",
    "        loss = loss_fct(logits.view(-1, self.model.config.num_labels), labels.view(-1))\n",
    "        return (loss, outputs) if return_outputs else loss\n",
    "\n",
    "\n",
    "# Create a  custom Trainer object to manage the training process\n",
    "trainer = CustomTrainer(\n",
    "    model=model,\n",
    "    args=training_args,\n",
    "    train_dataset=dataset['train'],\n",
    "    eval_dataset=dataset['test'],\n",
    "    compute_metrics=compute_metrics,\n",
    "    tokenizer=feature_extractor\n",
    "\n",
    ")"
   ]
  },
  {
   "cell_type": "code",
   "execution_count": 20,
   "metadata": {},
   "outputs": [
    {
     "data": {
      "text/html": [
       "\n",
       "    <div>\n",
       "      \n",
       "      <progress value='52956' max='52956' style='width:300px; height:20px; vertical-align: middle;'></progress>\n",
       "      [52956/52956 6:04:23, Epoch 12/12]\n",
       "    </div>\n",
       "    <table border=\"1\" class=\"dataframe\">\n",
       "  <thead>\n",
       " <tr style=\"text-align: left;\">\n",
       "      <th>Epoch</th>\n",
       "      <th>Training Loss</th>\n",
       "      <th>Validation Loss</th>\n",
       "      <th>Accuracy</th>\n",
       "    </tr>\n",
       "  </thead>\n",
       "  <tbody>\n",
       "    <tr>\n",
       "      <td>1</td>\n",
       "      <td>2.489700</td>\n",
       "      <td>1.602841</td>\n",
       "      <td>0.417941</td>\n",
       "    </tr>\n",
       "    <tr>\n",
       "      <td>2</td>\n",
       "      <td>0.836800</td>\n",
       "      <td>1.249197</td>\n",
       "      <td>0.622324</td>\n",
       "    </tr>\n",
       "    <tr>\n",
       "      <td>3</td>\n",
       "      <td>0.443100</td>\n",
       "      <td>0.956089</td>\n",
       "      <td>0.728848</td>\n",
       "    </tr>\n",
       "    <tr>\n",
       "      <td>4</td>\n",
       "      <td>0.666600</td>\n",
       "      <td>0.811113</td>\n",
       "      <td>0.786442</td>\n",
       "    </tr>\n",
       "    <tr>\n",
       "      <td>5</td>\n",
       "      <td>0.348600</td>\n",
       "      <td>0.778068</td>\n",
       "      <td>0.806320</td>\n",
       "    </tr>\n",
       "    <tr>\n",
       "      <td>6</td>\n",
       "      <td>0.067500</td>\n",
       "      <td>0.846419</td>\n",
       "      <td>0.814475</td>\n",
       "    </tr>\n",
       "    <tr>\n",
       "      <td>7</td>\n",
       "      <td>0.014400</td>\n",
       "      <td>0.789566</td>\n",
       "      <td>0.824669</td>\n",
       "    </tr>\n",
       "    <tr>\n",
       "      <td>8</td>\n",
       "      <td>0.008500</td>\n",
       "      <td>0.777910</td>\n",
       "      <td>0.836391</td>\n",
       "    </tr>\n",
       "    <tr>\n",
       "      <td>9</td>\n",
       "      <td>0.007600</td>\n",
       "      <td>0.768536</td>\n",
       "      <td>0.852701</td>\n",
       "    </tr>\n",
       "    <tr>\n",
       "      <td>10</td>\n",
       "      <td>0.166000</td>\n",
       "      <td>0.753821</td>\n",
       "      <td>0.853211</td>\n",
       "    </tr>\n",
       "    <tr>\n",
       "      <td>11</td>\n",
       "      <td>0.007200</td>\n",
       "      <td>0.757587</td>\n",
       "      <td>0.856779</td>\n",
       "    </tr>\n",
       "    <tr>\n",
       "      <td>12</td>\n",
       "      <td>1.378500</td>\n",
       "      <td>0.756693</td>\n",
       "      <td>0.859327</td>\n",
       "    </tr>\n",
       "  </tbody>\n",
       "</table><p>"
      ],
      "text/plain": [
       "<IPython.core.display.HTML object>"
      ]
     },
     "metadata": {},
     "output_type": "display_data"
    },
    {
     "data": {
      "text/plain": [
       "TrainOutput(global_step=52956, training_loss=0.8905644796854634, metrics={'train_runtime': 21868.2504, 'train_samples_per_second': 9.685, 'train_steps_per_second': 2.422, 'total_flos': 7.046422726210507e+18, 'train_loss': 0.8905644796854634, 'epoch': 12.0})"
      ]
     },
     "execution_count": 20,
     "metadata": {},
     "output_type": "execute_result"
    }
   ],
   "source": [
    "# This line of code initiates the training process for the model using the 'trainer' object.\n",
    "trainer.train()\n"
   ]
  },
  {
   "cell_type": "code",
   "execution_count": 21,
   "metadata": {},
   "outputs": [
    {
     "data": {
      "text/html": [],
      "text/plain": [
       "<IPython.core.display.HTML object>"
      ]
     },
     "metadata": {},
     "output_type": "display_data"
    },
    {
     "name": "stdout",
     "output_type": "stream",
     "text": [
      "{'test_loss': 0.7538206577301025, 'test_accuracy': 0.8532110091743119, 'test_runtime': 73.871, 'test_samples_per_second': 26.56, 'test_steps_per_second': 6.647}\n"
     ]
    }
   ],
   "source": [
    "# Use the trained 'trainer' to make predictions on the test dataset.\n",
    "outputs = trainer.predict(dataset['test'])\n",
    "\n",
    "# Print the metrics obtained from the prediction outputs.\n",
    "print(outputs.metrics)"
   ]
  },
  {
   "cell_type": "code",
   "execution_count": 22,
   "metadata": {},
   "outputs": [],
   "source": [
    "\n",
    "from sklearn.metrics import (\n",
    "    accuracy_score,  # For calculating accuracy\n",
    "    roc_auc_score,   # For ROC AUC score\n",
    "    confusion_matrix,  # For confusion matrix\n",
    "    classification_report,  # For classification report\n",
    "    f1_score  # For F1 score\n",
    ")"
   ]
  },
  {
   "cell_type": "markdown",
   "metadata": {},
   "source": [
    "### Transfer Learning Results\n",
    "\n",
    "Finally, we display a confusion matrix for the top classes along with detailed metrics for each class such as F1 score, accuracy, and recall. \n",
    "\r\n",
    "\r\n",
    "\r\n",
    "\r\n"
   ]
  },
  {
   "cell_type": "code",
   "execution_count": 23,
   "metadata": {},
   "outputs": [
    {
     "name": "stdout",
     "output_type": "stream",
     "text": [
      "Accuracy: 0.8532\n",
      "F1 Score: 0.8514\n"
     ]
    },
    {
     "data": {
      "image/png": "[encoded data removed]",
      "text/plain": [
       "<Figure size 1800x1600 with 2 Axes>"
      ]
     },
     "metadata": {},
     "output_type": "display_data"
    },
    {
     "name": "stdout",
     "output_type": "stream",
     "text": [
      "\n",
      "Classification report:\n",
      "\n",
      "                        precision    recall  f1-score   support\n",
      "\n",
      "   Aegithalos caudatus     0.8794    0.8750    0.8772       200\n",
      "          Corvus corax     0.8217    0.9450    0.8791       200\n",
      "   Cyanistes caeruleus     0.8701    0.7700    0.8170       200\n",
      "    Erithacus rubecula     0.8826    0.9400    0.9104       200\n",
      "     Fringilla coelebs     0.8427    0.7500    0.7937       200\n",
      "           Parus major     0.7957    0.7400    0.7668       200\n",
      "     Passer domesticus     0.8861    0.8950    0.8905       200\n",
      "       Passer montanus     0.8878    0.8700    0.8788       200\n",
      "Phylloscopus collybita     0.7919    0.8457    0.8179       162\n",
      "           Strix aluco     0.8654    0.9000    0.8824       200\n",
      "\n",
      "              accuracy                         0.8532      1962\n",
      "             macro avg     0.8523    0.8531    0.8514      1962\n",
      "          weighted avg     0.8535    0.8532    0.8520      1962\n",
      "\n"
     ]
    }
   ],
   "source": [
    "# Extract the true labels from the model outputs\n",
    "y_true = outputs.label_ids\n",
    "\n",
    "# Predict the labels by selecting the class with the highest probability\n",
    "y_pred = outputs.predictions.argmax(1)\n",
    "\n",
    "# Define a function to plot a confusion matrix\n",
    "def plot_confusion_matrix(cm, classes, title='Confusion Matrix', cmap=plt.cm.Blues, figsize=(10, 8), is_norm=True):\n",
    "    \"\"\"\n",
    "    This function plots a confusion matrix.\n",
    "\n",
    "    Parameters:\n",
    "        cm (array-like): Confusion matrix as returned by sklearn.metrics.confusion_matrix.\n",
    "        classes (list): List of class names, e.g., ['Class 0', 'Class 1'].\n",
    "        title (str): Title for the plot.\n",
    "        cmap (matplotlib colormap): Colormap for the plot.\n",
    "    \"\"\"\n",
    "    # Create a figure with a specified size\n",
    "    plt.figure(figsize=figsize)\n",
    "    \n",
    "    \n",
    "    # Display the confusion matrix as an image with a colormap\n",
    "    plt.imshow(cm, interpolation='nearest', cmap=cmap)\n",
    "    plt.title(title)\n",
    "    plt.colorbar()\n",
    "\n",
    "    # Define tick marks and labels for the classes on the axes\n",
    "    tick_marks = np.arange(len(classes))\n",
    "    plt.xticks(tick_marks, classes, rotation=90)\n",
    "    plt.yticks(tick_marks, classes)\n",
    "    \n",
    "    if is_norm:\n",
    "        fmt = '.3f'\n",
    "    else:\n",
    "        fmt = '.0f'\n",
    "    # Add text annotations to the plot indicating the values in the cells\n",
    "    thresh = cm.max() / 2.0\n",
    "    for i, j in itertools.product(range(cm.shape[0]), range(cm.shape[1])):\n",
    "        plt.text(j, i, format(cm[i, j], fmt), horizontalalignment=\"center\", color=\"white\" if cm[i, j] > thresh else \"black\")\n",
    "\n",
    "    # Label the axes\n",
    "    plt.ylabel('True label')\n",
    "    plt.xlabel('Predicted label')\n",
    "\n",
    "    # Ensure the plot layout is tight\n",
    "    plt.tight_layout()\n",
    "    # Display the plot\n",
    "    plt.show()\n",
    "\n",
    "# Calculate accuracy and F1 score\n",
    "accuracy = accuracy_score(y_true, y_pred)\n",
    "f1 = f1_score(y_true, y_pred, average='macro')\n",
    "\n",
    "# Display accuracy and F1 score\n",
    "print(f\"Accuracy: {accuracy:.4f}\")\n",
    "print(f\"F1 Score: {f1:.4f}\")\n",
    "\n",
    "# Get the confusion matrix if there are a relatively small number of labels\n",
    "if len(labels_list) <= 120:\n",
    "    # Compute the confusion matrix\n",
    "    cm = confusion_matrix(y_true, y_pred) # normalize='true'\n",
    "\n",
    "    # Plot the confusion matrix using the defined function\n",
    "    plot_confusion_matrix(cm, labels_list, figsize=(18, 16), is_norm=False)\n",
    "\n",
    "# Finally, display classification report\n",
    "print()\n",
    "print(\"Classification report:\")\n",
    "print()\n",
    "print(classification_report(y_true, y_pred, target_names=labels_list, digits=4))"
   ]
  },
  {
   "cell_type": "code",
   "execution_count": 24,
   "metadata": {},
   "outputs": [
    {
     "name": "stdout",
     "output_type": "stream",
     "text": [
      "Total runtime of the notebook: 22545.026383638382 seconds\n"
     ]
    }
   ],
   "source": [
    "end_time = time.time()  # Record the end time\n",
    "total_time = end_time - start_time\n",
    "print(f\"Total runtime of the notebook: {total_time} seconds\")"
   ]
  },
  {
   "cell_type": "markdown",
   "metadata": {},
   "source": [
    "Weighted average f1 score of the best transfer learning model is 0.8514 which is sufficient for our purposes for 10 species bird sound classification. From confusion matrix, we can see a strong diagonal correct classification pattern. It is notable that missclassification is not uniform across the board. Fringilla coelebs was mistakenly classified as Phylloscopus collybita 18 times, with most other missclassifications between classes being significantly lower. While transfer learning model using Wav2Vec2 was the most successful model for our task, the training time was slightly over 6 hours. Therefore, when attempting to improve further on this model, desired accuracy needs to be weighted against resource consumption. "
   ]
  }
 ],
 "metadata": {
  "colab": {
   "provenance": [],
   "toc_visible": true
  },
  "kernelspec": {
   "display_name": "Python 3 (ipykernel)",
   "language": "python",
   "name": "python3"
  },
  "language_info": {
   "codemirror_mode": {
    "name": "ipython",
    "version": 3
   },
   "file_extension": ".py",
   "mimetype": "text/x-python",
   "name": "python",
   "nbconvert_exporter": "python",
   "pygments_lexer": "ipython3",
   "version": "3.11.7"
  }
 },
 "nbformat": 4,
 "nbformat_minor": 4
}
