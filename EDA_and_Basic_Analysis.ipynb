{
 "cells": [
  {
   "cell_type": "markdown",
   "metadata": {
    "id": "-WpgBqHS05u9"
   },
   "source": [
    "# <img style=\"float: left; padding-right: 10px; width: 45px\" src=\"https://raw.githubusercontent.com/Harvard-IACS/2018-CS109A/master/content/styles/iacs.png\"> CS109B Advanced Topics in Data Science\n",
    "\n",
    "## **Classifying Bird Sounds From Around the World**\n",
    "\n",
    "\n",
    "**Harvard University**<br/>\n",
    "**Spring 2024**<br/>\n",
    "**Instructors**: Pavlos Protopapas<br/>\n",
    "**Project Members**: Elianne Sacher, Shane Kissinger, and Oleg Pavliv"
   ]
  },
  {
   "cell_type": "code",
   "execution_count": 1,
   "metadata": {
    "colab": {
     "base_uri": "https://localhost:8080/",
     "height": 17
    },
    "id": "--nIVkXC12zf",
    "outputId": "f8b17e96-42e3-4dc6-9151-6a1afb2a65f8"
   },
   "outputs": [
    {
     "data": {
      "text/html": [
       "<style>\n",
       "blockquote { background: #AEDE94; }\n",
       "h1 {\n",
       "    padding-top: 25px;\n",
       "    padding-bottom: 25px;\n",
       "    text-align: left;\n",
       "    padding-left: 10px;\n",
       "    background-color: #63ACBE;\n",
       "    color: black;\n",
       "}\n",
       "h2 {\n",
       "    padding-top: 10px;\n",
       "    padding-bottom: 10px;\n",
       "    text-align: left;\n",
       "    padding-left: 5px;\n",
       "    background-color: #EEEEEE;\n",
       "    color: black;\n",
       "}\n",
       "\n",
       "div.exercise {\n",
       "\tbackground-color: #f8b4ab;\n",
       "\tborder-color: #E9967A;\n",
       "\tborder-left: 5px solid #601A4A;\n",
       "\tpadding: 0.5em;\n",
       "}\n",
       "\n",
       "div.exercise-r {\n",
       "\tbackground-color: #ffd0d0;\n",
       "\tborder-color: #E9967A;\n",
       "\tborder-left: 5px solid #601A4A;\n",
       "\tpadding: 0.5em;\n",
       "}\n",
       "\n",
       "\n",
       "span.sub-q {\n",
       "\tfont-weight: bold;\n",
       "}\n",
       "div.theme {\n",
       "\tbackground-color: #63ACBE;\n",
       "\tborder-color: #E9967A;\n",
       "\tborder-left: 5px solid #601A4A;\n",
       "\tpadding: 0.5em;\n",
       "\tfont-size: 18pt;\n",
       "}\n",
       "div.gc {\n",
       "\tbackground-color: #AEDE94;\n",
       "\tborder-color: #E9967A;\n",
       "\tborder-left: 5px solid #601A4A;\n",
       "\tpadding: 0.5em;\n",
       "\tfont-size: 12pt;\n",
       "}\n",
       "p.q1 {\n",
       "    padding-top: 5px;\n",
       "    padding-bottom: 5px;\n",
       "    text-align: left;\n",
       "    padding-left: 5px;\n",
       "    background-color: #EEEEEE;\n",
       "    color: black;\n",
       "}\n",
       "header {\n",
       "   padding-top: 35px;\n",
       "    padding-bottom: 35px;\n",
       "    text-align: left;\n",
       "    padding-left: 10px;\n",
       "    background-color: #DDDDDD;\n",
       "    color: black;\n",
       "}\n",
       "span.emph {\n",
       "\tcolor: #601A4A;\n",
       "\tfont-weight: bold;\n",
       "}\n",
       "\n",
       "</style>\n"
      ],
      "text/plain": [
       "<IPython.core.display.HTML object>"
      ]
     },
     "execution_count": 1,
     "metadata": {},
     "output_type": "execute_result"
    }
   ],
   "source": [
    "# RUN THIS CELL\n",
    "import requests\n",
    "from IPython.core.display import HTML\n",
    "styles = requests.get(\n",
    "    \"https://raw.githubusercontent.com/Harvard-IACS/2021-CS109A/master/\"\n",
    "    \"themes/static/css/cs109.css\"\n",
    ").text\n",
    "HTML(styles)"
   ]
  },
  {
   "cell_type": "code",
   "execution_count": 2,
   "metadata": {
    "id": "eceYzwo916Pq"
   },
   "outputs": [
    {
     "name": "stderr",
     "output_type": "stream",
     "text": [
      "2024-04-27 21:01:50.357914: I tensorflow/core/util/port.cc:113] oneDNN custom operations are on. You may see slightly different numerical results due to floating-point round-off errors from different computation orders. To turn them off, set the environment variable `TF_ENABLE_ONEDNN_OPTS=0`.\n",
      "2024-04-27 21:01:50.404130: E external/local_xla/xla/stream_executor/cuda/cuda_dnn.cc:9261] Unable to register cuDNN factory: Attempting to register factory for plugin cuDNN when one has already been registered\n",
      "2024-04-27 21:01:50.404164: E external/local_xla/xla/stream_executor/cuda/cuda_fft.cc:607] Unable to register cuFFT factory: Attempting to register factory for plugin cuFFT when one has already been registered\n",
      "2024-04-27 21:01:50.405381: E external/local_xla/xla/stream_executor/cuda/cuda_blas.cc:1515] Unable to register cuBLAS factory: Attempting to register factory for plugin cuBLAS when one has already been registered\n",
      "2024-04-27 21:01:50.412558: I tensorflow/core/platform/cpu_feature_guard.cc:182] This TensorFlow binary is optimized to use available CPU instructions in performance-critical operations.\n",
      "To enable the following instructions: AVX2 AVX512F AVX512_VNNI FMA, in other operations, rebuild TensorFlow with the appropriate compiler flags.\n"
     ]
    }
   ],
   "source": [
    "# Import libraries\n",
    "import requests\n",
    "import zipfile\n",
    "import io, os\n",
    "import pickle\n",
    "\n",
    "import seaborn as sns\n",
    "import matplotlib.pyplot as plt\n",
    "import pandas as pd\n",
    "import numpy as np\n",
    "import sys\n",
    "import scipy as sp\n",
    "\n",
    "from sklearn.model_selection import train_test_split\n",
    "from sklearn.decomposition import PCA\n",
    "import sklearn as sk\n",
    "\n",
    "from tensorflow import keras\n",
    "from tensorflow.keras.layers import Input, Dense, Flatten, Activation, BatchNormalization, Flatten, Dropout, GaussianNoise, RandomContrast, Conv2D, MaxPool2D, UpSampling2D\n",
    "from tensorflow.keras.models import Model\n",
    "from tensorflow.keras.preprocessing.image import ImageDataGenerator\n",
    "from tensorflow.keras.callbacks import EarlyStopping, LambdaCallback\n",
    "from tensorflow.keras.regularizers import L1, L2\n",
    "from tensorflow.keras.optimizers.legacy import Adam\n",
    "from tensorflow.keras.preprocessing import image\n",
    "from tensorflow.keras import Sequential\n",
    "from tensorflow.keras.utils import plot_model\n",
    "from tensorflow.keras.utils import to_categorical\n",
    "from tensorflow.keras.optimizers import Adam\n",
    "import tensorflow as tf\n",
    "\n",
    "from PIL import Image\n",
    "from io import BytesIO\n",
    "\n",
    "import warnings\n",
    "# Suppress specific FutureWarning\n",
    "warnings.simplefilter(action='ignore', category=FutureWarning)\n",
    "warnings.simplefilter(\"ignore\")"
   ]
  },
  {
   "cell_type": "markdown",
   "metadata": {
    "id": "A57t8V7IZm85"
   },
   "source": [
    "## **Problem statement**\n",
    "\n",
    "We aim to develop a machine-learning model that can accurately classify bird sounds based on their spectrograms. By leveraging audio, we aim to create a robust model that can identify bird families from their sounds and associated visual information. This project has the potential to contribute to biodiversity monitoring and conservation efforts by providing an automated tool for identifying bird species based on their vocalizations."
   ]
  },
  {
   "cell_type": "markdown",
   "metadata": {
    "id": "h75DV9_UZm85"
   },
   "source": [
    "Our project is important because it contributes to biodiversity conservation by enabling accurate identification of bird families through their calls. This aids in ecological research, particularly in understanding bird populations and behaviors, which is crucial for habitat conservation and assessing the impact of climate change. Additionally, our work advances technology in bioacoustics, providing valuable tools for automated wildlife monitoring. By developing a model and dataset for bird call classification, we also support conservation policies and engage the public in citizen science initiatives, fostering a greater appreciation for nature and wildlife conservation.\n",
    "\n",
    "\n",
    "\n"
   ]
  },
  {
   "cell_type": "markdown",
   "metadata": {
    "id": "OZWqPwzH2jfk"
   },
   "source": [
    "<a id=\"contents\"></a>\n",
    "\n",
    "## **Notebook contents**\n",
    "\n",
    "- [**Data Description**](#data)\n",
    "  - [**Overview**](#data)\n",
    "    - [**Multimedia Dataset**](#data)\n",
    "    - [**Occurrence Dataset**](#data)\n",
    "  - [**Why Use These Datasets**](#data)\n",
    "  - [**Key Metrics**](#data)\n",
    "  - [**Scope**](#data)\n",
    "  - [**Methodology**](#data)\n",
    "- [**Initial Inspection of Datasets**](#EDA)\n",
    "  - [**Loading Dataset**](#load)\n",
    "  - [**Quick Methods for Dataset Investigation**](#inv)\n",
    "  - [**Summary of Dataset Analysis**](#sum_inv)\n",
    "- [**Data Preprocessing**](#preproc)\n",
    "- [**Data Analysis post-preprocessing**](#data_post)"
   ]
  },
  {
   "cell_type": "markdown",
   "metadata": {
    "id": "aPHI81m_Zm86"
   },
   "source": [
    "<a id=\"data\"></a>\n",
    "\n",
    "## **Data Description**\n",
    "\n",
    "### **Overview**\n",
    "This project utilizes two datasets from the Xeno-canto Foundation for Nature Sounds, focusing on bird sounds from around the world.\n",
    "\n",
    "#### **Multimedia Dataset (`df_multimedia`)**\n",
    "\n",
    "This dataset contains multimedia information associated with the bird sound recordings in the Xeno-canto database. The fields in this dataset include:\n",
    "\n",
    "- **gbifID**: The unique identifier for the occurrence associated with the multimedia.\n",
    "- **type**: The type of multimedia, such as `StillImage` or `Sound`.\n",
    "- **format**: The format of the multimedia file, such as `image/png` or `audio/mpeg`.\n",
    "- **identifier**: The URL where the multimedia file can be accessed.\n",
    "- **references**: Any references associated with the multimedia.\n",
    "- **title**: The title of the multimedia file.\n",
    "- **description**: A description of the multimedia content, such as \"Oscillogram of the first ten seconds of the sound recording.\"\n",
    "- **source**: The source of the multimedia file.\n",
    "- **audience**: The intended audience for the multimedia.\n",
    "- **created**: The date when the multimedia was created.\n",
    "- **creator**: The creator of the multimedia file, typically the recordist or the organization.\n",
    "- **contributor**: Any contributors to the multimedia file.\n",
    "- **publisher**: The publisher of the multimedia file.\n",
    "- **license**: The license under which the multimedia is shared.\n",
    "- **rightsHolder**: The holder of the rights to the multimedia file.\n",
    "\n",
    "#### **Occurrence Dataset (`df_occurrence`)**\n",
    "\n",
    "This dataset contains occurrence records for bird sounds in the Xeno-canto database. The fields in this dataset include:\n",
    "\n",
    "- **gbifID**: The unique identifier for the occurrence.\n",
    "- **license**: The license under which the occurrence data is shared.\n",
    "- **publisher**: The organization that published the occurrence data.\n",
    "- **references**: A URL where more information about the occurrence can be found.\n",
    "- **rightsHolder**: The holder of the rights to the occurrence data.\n",
    "- **basisOfRecord**: The type of record, such as `HUMAN_OBSERVATION`.\n",
    "- **occurrenceID**: A unique identifier for the occurrence within the dataset.\n",
    "- **catalogNumber**: The catalog number of the occurrence.\n",
    "- **recordedBy**: The person who recorded the occurrence.\n",
    "- **behavior**: The behavior observed in the recording, such as \"call.\"\n",
    "- **eventDate**: The date when the recording was made.\n",
    "- **continent**: The continent where the recording was made.\n",
    "- **countryCode**: The ISO code of the country where the recording was made.\n",
    "- **locality**: The specific location where the recording was made.\n",
    "- **decimalLatitude** and **decimalLongitude**: The geographic coordinates of the recording location.\n",
    "- **scientificName**: The scientific name of the bird species recorded.\n",
    "- **taxonRank**: The taxonomic rank of the recorded species, such as `SPECIES`.\n",
    "- **vernacularName**: The common name of the bird species recorded.\n",
    "- **mediaType**: The types of media associated with the occurrence, such as `Sound` or `StillImage`.\n",
    "\n",
    "### **Why Use These Datasets?**\n",
    "\n",
    "We are using these two datasets to develop a machine-learning model that can classify bird sounds based on their taxonomic classification. The `df_multimedia` dataset provides access to audio and image data associated with the bird sounds, which can be used as input features for our model. The `df_occurrence` dataset contains metadata about the bird sound recordings, including the scientific name of the species recorded, the location and date of the recording, and other relevant information. By combining these datasets, we can create a robust model that leverages both audio and image data along with metadata to accurately classify bird sounds.\n",
    "\n",
    "### **Key Metrics**\n",
    "- **Occurrences**: 716,626\n",
    "- **With Taxon Match**: 100%\n",
    "- **With Coordinates**: 97%\n",
    "- **With Year**: 98%\n",
    "- **Georeferenced Records**: 698,405\n",
    "\n",
    "### **Scope**\n",
    "- **Temporal Scope**: 1900-current\n",
    "- **Geographic Scope**: Global\n",
    "- **Taxonomic Scope**: Birds, with taxonomy based on the IOC World Bird List\n",
    "\n",
    "### **Methodology**\n",
    "Identifications of sounds on recordings are subject to continuous review by the Xeno-canto community. Current identifications can be challenged or questioned, and only recordings with \"not questioned\" or \"questioned and resolved\""
   ]
  },
  {
   "cell_type": "markdown",
   "metadata": {
    "id": "QAP-nVtYcCHp"
   },
   "source": [
    "<a id=\"EDA\"></a>\n",
    "\n",
    "## **Initial Inspection of Datasets**"
   ]
  },
  {
   "cell_type": "markdown",
   "metadata": {
    "id": "CmaQJoziZm87"
   },
   "source": [
    "<a id=\"load\"></a>\n",
    "\n",
    "### **Loading Dataset**"
   ]
  },
  {
   "cell_type": "code",
   "execution_count": 3,
   "metadata": {
    "id": "peqlXUqEPvUQ"
   },
   "outputs": [],
   "source": [
    "# Load the bird data\n",
    "gbif_file = \"gbif_file.zip\"\n",
    "if gbif_file not in os.listdir(\"./\"):\n",
    "  !wget -O ./gbif_file.zip https://api.gbif.org/v1/occurrence/download/request/0044592-240321170329656.zip\n",
    "  !unzip ./gbif_file.zip"
   ]
  },
  {
   "cell_type": "code",
   "execution_count": 4,
   "metadata": {
    "colab": {
     "base_uri": "https://localhost:8080/",
     "height": 363
    },
    "id": "GezIJdz1Q6Sg",
    "outputId": "fc91bacc-eeb0-4349-b5af-d5153a4604f3",
    "scrolled": true
   },
   "outputs": [
    {
     "data": {
      "text/html": [
       "<div>\n",
       "<style scoped>\n",
       "    .dataframe tbody tr th:only-of-type {\n",
       "        vertical-align: middle;\n",
       "    }\n",
       "\n",
       "    .dataframe tbody tr th {\n",
       "        vertical-align: top;\n",
       "    }\n",
       "\n",
       "    .dataframe thead th {\n",
       "        text-align: right;\n",
       "    }\n",
       "</style>\n",
       "<table border=\"1\" class=\"dataframe\">\n",
       "  <thead>\n",
       "    <tr style=\"text-align: right;\">\n",
       "      <th></th>\n",
       "      <th>gbifID</th>\n",
       "      <th>type</th>\n",
       "      <th>format</th>\n",
       "      <th>identifier</th>\n",
       "      <th>references</th>\n",
       "      <th>title</th>\n",
       "      <th>description</th>\n",
       "      <th>source</th>\n",
       "      <th>audience</th>\n",
       "      <th>created</th>\n",
       "      <th>creator</th>\n",
       "      <th>contributor</th>\n",
       "      <th>publisher</th>\n",
       "      <th>license</th>\n",
       "      <th>rightsHolder</th>\n",
       "    </tr>\n",
       "  </thead>\n",
       "  <tbody>\n",
       "    <tr>\n",
       "      <th>0</th>\n",
       "      <td>2243549892</td>\n",
       "      <td>StillImage</td>\n",
       "      <td>image/png</td>\n",
       "      <td>https://xeno-canto.org/sounds/uploaded/OXSIOLJ...</td>\n",
       "      <td>NaN</td>\n",
       "      <td>NaN</td>\n",
       "      <td>Oscillogram of the first ten seconds of the so...</td>\n",
       "      <td>NaN</td>\n",
       "      <td>NaN</td>\n",
       "      <td>NaN</td>\n",
       "      <td>Stichting Xeno-canto voor Natuurgeluiden</td>\n",
       "      <td>NaN</td>\n",
       "      <td>NaN</td>\n",
       "      <td>http://creativecommons.org/licenses/by-nc-nd/2.5/</td>\n",
       "      <td>Stichting Xeno-canto voor Natuurgeluiden</td>\n",
       "    </tr>\n",
       "    <tr>\n",
       "      <th>1</th>\n",
       "      <td>2243549892</td>\n",
       "      <td>StillImage</td>\n",
       "      <td>image/png</td>\n",
       "      <td>https://xeno-canto.org/sounds/uploaded/OXSIOLJ...</td>\n",
       "      <td>NaN</td>\n",
       "      <td>NaN</td>\n",
       "      <td>Spectrogram of the first ten seconds of the so...</td>\n",
       "      <td>NaN</td>\n",
       "      <td>NaN</td>\n",
       "      <td>NaN</td>\n",
       "      <td>Stichting Xeno-canto voor Natuurgeluiden</td>\n",
       "      <td>NaN</td>\n",
       "      <td>NaN</td>\n",
       "      <td>http://creativecommons.org/licenses/by-nc-nd/2.5/</td>\n",
       "      <td>Stichting Xeno-canto voor Natuurgeluiden</td>\n",
       "    </tr>\n",
       "    <tr>\n",
       "      <th>2</th>\n",
       "      <td>2243549892</td>\n",
       "      <td>Sound</td>\n",
       "      <td>audio/mpeg</td>\n",
       "      <td>https://xeno-canto.org/sounds/uploaded/OXSIOLJ...</td>\n",
       "      <td>NaN</td>\n",
       "      <td>NaN</td>\n",
       "      <td>3 s</td>\n",
       "      <td>NaN</td>\n",
       "      <td>NaN</td>\n",
       "      <td>NaN</td>\n",
       "      <td>Myornis</td>\n",
       "      <td>NaN</td>\n",
       "      <td>NaN</td>\n",
       "      <td>http://creativecommons.org/licenses/by-nc-nd/2.5/</td>\n",
       "      <td>Myornis</td>\n",
       "    </tr>\n",
       "    <tr>\n",
       "      <th>3</th>\n",
       "      <td>2243549897</td>\n",
       "      <td>StillImage</td>\n",
       "      <td>image/png</td>\n",
       "      <td>https://xeno-canto.org/sounds/uploaded/RJNSQXB...</td>\n",
       "      <td>NaN</td>\n",
       "      <td>NaN</td>\n",
       "      <td>Spectrogram of the first ten seconds of the so...</td>\n",
       "      <td>NaN</td>\n",
       "      <td>NaN</td>\n",
       "      <td>NaN</td>\n",
       "      <td>Stichting Xeno-canto voor Natuurgeluiden</td>\n",
       "      <td>NaN</td>\n",
       "      <td>NaN</td>\n",
       "      <td>http://creativecommons.org/licenses/by-nc-nd/2.5/</td>\n",
       "      <td>Stichting Xeno-canto voor Natuurgeluiden</td>\n",
       "    </tr>\n",
       "    <tr>\n",
       "      <th>4</th>\n",
       "      <td>2243549897</td>\n",
       "      <td>StillImage</td>\n",
       "      <td>image/png</td>\n",
       "      <td>https://xeno-canto.org/sounds/uploaded/RJNSQXB...</td>\n",
       "      <td>NaN</td>\n",
       "      <td>NaN</td>\n",
       "      <td>Oscillogram of the first ten seconds of the so...</td>\n",
       "      <td>NaN</td>\n",
       "      <td>NaN</td>\n",
       "      <td>NaN</td>\n",
       "      <td>Stichting Xeno-canto voor Natuurgeluiden</td>\n",
       "      <td>NaN</td>\n",
       "      <td>NaN</td>\n",
       "      <td>http://creativecommons.org/licenses/by-nc-nd/2.5/</td>\n",
       "      <td>Stichting Xeno-canto voor Natuurgeluiden</td>\n",
       "    </tr>\n",
       "  </tbody>\n",
       "</table>\n",
       "</div>"
      ],
      "text/plain": [
       "       gbifID        type      format  \\\n",
       "0  2243549892  StillImage   image/png   \n",
       "1  2243549892  StillImage   image/png   \n",
       "2  2243549892       Sound  audio/mpeg   \n",
       "3  2243549897  StillImage   image/png   \n",
       "4  2243549897  StillImage   image/png   \n",
       "\n",
       "                                          identifier  references  title  \\\n",
       "0  https://xeno-canto.org/sounds/uploaded/OXSIOLJ...         NaN    NaN   \n",
       "1  https://xeno-canto.org/sounds/uploaded/OXSIOLJ...         NaN    NaN   \n",
       "2  https://xeno-canto.org/sounds/uploaded/OXSIOLJ...         NaN    NaN   \n",
       "3  https://xeno-canto.org/sounds/uploaded/RJNSQXB...         NaN    NaN   \n",
       "4  https://xeno-canto.org/sounds/uploaded/RJNSQXB...         NaN    NaN   \n",
       "\n",
       "                                         description  source  audience  \\\n",
       "0  Oscillogram of the first ten seconds of the so...     NaN       NaN   \n",
       "1  Spectrogram of the first ten seconds of the so...     NaN       NaN   \n",
       "2                                                3 s     NaN       NaN   \n",
       "3  Spectrogram of the first ten seconds of the so...     NaN       NaN   \n",
       "4  Oscillogram of the first ten seconds of the so...     NaN       NaN   \n",
       "\n",
       "   created                                   creator  contributor  publisher  \\\n",
       "0      NaN  Stichting Xeno-canto voor Natuurgeluiden          NaN        NaN   \n",
       "1      NaN  Stichting Xeno-canto voor Natuurgeluiden          NaN        NaN   \n",
       "2      NaN                                   Myornis          NaN        NaN   \n",
       "3      NaN  Stichting Xeno-canto voor Natuurgeluiden          NaN        NaN   \n",
       "4      NaN  Stichting Xeno-canto voor Natuurgeluiden          NaN        NaN   \n",
       "\n",
       "                                             license  \\\n",
       "0  http://creativecommons.org/licenses/by-nc-nd/2.5/   \n",
       "1  http://creativecommons.org/licenses/by-nc-nd/2.5/   \n",
       "2  http://creativecommons.org/licenses/by-nc-nd/2.5/   \n",
       "3  http://creativecommons.org/licenses/by-nc-nd/2.5/   \n",
       "4  http://creativecommons.org/licenses/by-nc-nd/2.5/   \n",
       "\n",
       "                               rightsHolder  \n",
       "0  Stichting Xeno-canto voor Natuurgeluiden  \n",
       "1  Stichting Xeno-canto voor Natuurgeluiden  \n",
       "2                                   Myornis  \n",
       "3  Stichting Xeno-canto voor Natuurgeluiden  \n",
       "4  Stichting Xeno-canto voor Natuurgeluiden  "
      ]
     },
     "execution_count": 4,
     "metadata": {},
     "output_type": "execute_result"
    }
   ],
   "source": [
    "## Load and inspect the Multimedia dataset\n",
    "df_multimedia = pd.read_csv(\"./multimedia.txt\", delimiter=\"\\t\")\n",
    "df_multimedia.head()"
   ]
  },
  {
   "cell_type": "code",
   "execution_count": 5,
   "metadata": {
    "colab": {
     "base_uri": "https://localhost:8080/",
     "height": 603
    },
    "id": "vCHMB7eZZm88",
    "outputId": "b5dbbbe9-e8dc-4b5a-b011-ceb80f87e17f",
    "scrolled": true
   },
   "outputs": [
    {
     "data": {
      "text/html": [
       "<div>\n",
       "<style scoped>\n",
       "    .dataframe tbody tr th:only-of-type {\n",
       "        vertical-align: middle;\n",
       "    }\n",
       "\n",
       "    .dataframe tbody tr th {\n",
       "        vertical-align: top;\n",
       "    }\n",
       "\n",
       "    .dataframe thead th {\n",
       "        text-align: right;\n",
       "    }\n",
       "</style>\n",
       "<table border=\"1\" class=\"dataframe\">\n",
       "  <thead>\n",
       "    <tr style=\"text-align: right;\">\n",
       "      <th></th>\n",
       "      <th>gbifID</th>\n",
       "      <th>accessRights</th>\n",
       "      <th>bibliographicCitation</th>\n",
       "      <th>language</th>\n",
       "      <th>license</th>\n",
       "      <th>modified</th>\n",
       "      <th>publisher</th>\n",
       "      <th>references</th>\n",
       "      <th>rightsHolder</th>\n",
       "      <th>type</th>\n",
       "      <th>...</th>\n",
       "      <th>publishedByGbifRegion</th>\n",
       "      <th>level0Gid</th>\n",
       "      <th>level0Name</th>\n",
       "      <th>level1Gid</th>\n",
       "      <th>level1Name</th>\n",
       "      <th>level2Gid</th>\n",
       "      <th>level2Name</th>\n",
       "      <th>level3Gid</th>\n",
       "      <th>level3Name</th>\n",
       "      <th>iucnRedListCategory</th>\n",
       "    </tr>\n",
       "  </thead>\n",
       "  <tbody>\n",
       "    <tr>\n",
       "      <th>0</th>\n",
       "      <td>2243621334</td>\n",
       "      <td>NaN</td>\n",
       "      <td>NaN</td>\n",
       "      <td>NaN</td>\n",
       "      <td>CC_BY_NC_4_0</td>\n",
       "      <td>NaN</td>\n",
       "      <td>Xeno-canto Foundation for Nature Sounds</td>\n",
       "      <td>https://data.biodiversitydata.nl/xeno-canto/ob...</td>\n",
       "      <td>Bob Planqué</td>\n",
       "      <td>NaN</td>\n",
       "      <td>...</td>\n",
       "      <td>EUROPE</td>\n",
       "      <td>ECU</td>\n",
       "      <td>Ecuador</td>\n",
       "      <td>ECU.3_1</td>\n",
       "      <td>Cañar</td>\n",
       "      <td>ECU.3.1_1</td>\n",
       "      <td>Azogues</td>\n",
       "      <td>ECU.3.1.6_1</td>\n",
       "      <td>Pindilig</td>\n",
       "      <td>LC</td>\n",
       "    </tr>\n",
       "    <tr>\n",
       "      <th>1</th>\n",
       "      <td>2243773710</td>\n",
       "      <td>NaN</td>\n",
       "      <td>NaN</td>\n",
       "      <td>NaN</td>\n",
       "      <td>CC_BY_NC_4_0</td>\n",
       "      <td>NaN</td>\n",
       "      <td>Xeno-canto Foundation for Nature Sounds</td>\n",
       "      <td>https://data.biodiversitydata.nl/xeno-canto/ob...</td>\n",
       "      <td>Bob Planqué</td>\n",
       "      <td>NaN</td>\n",
       "      <td>...</td>\n",
       "      <td>EUROPE</td>\n",
       "      <td>ECU</td>\n",
       "      <td>Ecuador</td>\n",
       "      <td>ECU.3_1</td>\n",
       "      <td>Cañar</td>\n",
       "      <td>ECU.3.1_1</td>\n",
       "      <td>Azogues</td>\n",
       "      <td>ECU.3.1.6_1</td>\n",
       "      <td>Pindilig</td>\n",
       "      <td>NaN</td>\n",
       "    </tr>\n",
       "    <tr>\n",
       "      <th>2</th>\n",
       "      <td>2243866773</td>\n",
       "      <td>NaN</td>\n",
       "      <td>NaN</td>\n",
       "      <td>NaN</td>\n",
       "      <td>CC_BY_NC_4_0</td>\n",
       "      <td>NaN</td>\n",
       "      <td>Xeno-canto Foundation for Nature Sounds</td>\n",
       "      <td>https://data.biodiversitydata.nl/xeno-canto/ob...</td>\n",
       "      <td>Bob Planqué</td>\n",
       "      <td>NaN</td>\n",
       "      <td>...</td>\n",
       "      <td>EUROPE</td>\n",
       "      <td>PER</td>\n",
       "      <td>Peru</td>\n",
       "      <td>PER.18_1</td>\n",
       "      <td>Madre de Dios</td>\n",
       "      <td>PER.18.3_1</td>\n",
       "      <td>Tambopata</td>\n",
       "      <td>PER.18.3.4_1</td>\n",
       "      <td>Tambopata</td>\n",
       "      <td>LC</td>\n",
       "    </tr>\n",
       "    <tr>\n",
       "      <th>3</th>\n",
       "      <td>2243875909</td>\n",
       "      <td>NaN</td>\n",
       "      <td>NaN</td>\n",
       "      <td>NaN</td>\n",
       "      <td>CC_BY_NC_4_0</td>\n",
       "      <td>NaN</td>\n",
       "      <td>Xeno-canto Foundation for Nature Sounds</td>\n",
       "      <td>https://data.biodiversitydata.nl/xeno-canto/ob...</td>\n",
       "      <td>Bob Planqué</td>\n",
       "      <td>NaN</td>\n",
       "      <td>...</td>\n",
       "      <td>EUROPE</td>\n",
       "      <td>PER</td>\n",
       "      <td>Peru</td>\n",
       "      <td>PER.18_1</td>\n",
       "      <td>Madre de Dios</td>\n",
       "      <td>PER.18.3_1</td>\n",
       "      <td>Tambopata</td>\n",
       "      <td>PER.18.3.4_1</td>\n",
       "      <td>Tambopata</td>\n",
       "      <td>LC</td>\n",
       "    </tr>\n",
       "    <tr>\n",
       "      <th>4</th>\n",
       "      <td>2243887248</td>\n",
       "      <td>NaN</td>\n",
       "      <td>NaN</td>\n",
       "      <td>NaN</td>\n",
       "      <td>CC_BY_NC_4_0</td>\n",
       "      <td>NaN</td>\n",
       "      <td>Xeno-canto Foundation for Nature Sounds</td>\n",
       "      <td>https://data.biodiversitydata.nl/xeno-canto/ob...</td>\n",
       "      <td>Bob Planqué</td>\n",
       "      <td>NaN</td>\n",
       "      <td>...</td>\n",
       "      <td>EUROPE</td>\n",
       "      <td>PER</td>\n",
       "      <td>Peru</td>\n",
       "      <td>PER.18_1</td>\n",
       "      <td>Madre de Dios</td>\n",
       "      <td>PER.18.3_1</td>\n",
       "      <td>Tambopata</td>\n",
       "      <td>PER.18.3.4_1</td>\n",
       "      <td>Tambopata</td>\n",
       "      <td>NaN</td>\n",
       "    </tr>\n",
       "  </tbody>\n",
       "</table>\n",
       "<p>5 rows × 223 columns</p>\n",
       "</div>"
      ],
      "text/plain": [
       "       gbifID  accessRights  bibliographicCitation  language       license  \\\n",
       "0  2243621334           NaN                    NaN       NaN  CC_BY_NC_4_0   \n",
       "1  2243773710           NaN                    NaN       NaN  CC_BY_NC_4_0   \n",
       "2  2243866773           NaN                    NaN       NaN  CC_BY_NC_4_0   \n",
       "3  2243875909           NaN                    NaN       NaN  CC_BY_NC_4_0   \n",
       "4  2243887248           NaN                    NaN       NaN  CC_BY_NC_4_0   \n",
       "\n",
       "   modified                                publisher  \\\n",
       "0       NaN  Xeno-canto Foundation for Nature Sounds   \n",
       "1       NaN  Xeno-canto Foundation for Nature Sounds   \n",
       "2       NaN  Xeno-canto Foundation for Nature Sounds   \n",
       "3       NaN  Xeno-canto Foundation for Nature Sounds   \n",
       "4       NaN  Xeno-canto Foundation for Nature Sounds   \n",
       "\n",
       "                                          references rightsHolder  type  ...  \\\n",
       "0  https://data.biodiversitydata.nl/xeno-canto/ob...  Bob Planqué   NaN  ...   \n",
       "1  https://data.biodiversitydata.nl/xeno-canto/ob...  Bob Planqué   NaN  ...   \n",
       "2  https://data.biodiversitydata.nl/xeno-canto/ob...  Bob Planqué   NaN  ...   \n",
       "3  https://data.biodiversitydata.nl/xeno-canto/ob...  Bob Planqué   NaN  ...   \n",
       "4  https://data.biodiversitydata.nl/xeno-canto/ob...  Bob Planqué   NaN  ...   \n",
       "\n",
       "   publishedByGbifRegion  level0Gid  level0Name  level1Gid     level1Name  \\\n",
       "0                 EUROPE        ECU     Ecuador    ECU.3_1          Cañar   \n",
       "1                 EUROPE        ECU     Ecuador    ECU.3_1          Cañar   \n",
       "2                 EUROPE        PER        Peru   PER.18_1  Madre de Dios   \n",
       "3                 EUROPE        PER        Peru   PER.18_1  Madre de Dios   \n",
       "4                 EUROPE        PER        Peru   PER.18_1  Madre de Dios   \n",
       "\n",
       "    level2Gid  level2Name     level3Gid  level3Name  iucnRedListCategory  \n",
       "0   ECU.3.1_1     Azogues   ECU.3.1.6_1    Pindilig                   LC  \n",
       "1   ECU.3.1_1     Azogues   ECU.3.1.6_1    Pindilig                  NaN  \n",
       "2  PER.18.3_1   Tambopata  PER.18.3.4_1   Tambopata                   LC  \n",
       "3  PER.18.3_1   Tambopata  PER.18.3.4_1   Tambopata                   LC  \n",
       "4  PER.18.3_1   Tambopata  PER.18.3.4_1   Tambopata                  NaN  \n",
       "\n",
       "[5 rows x 223 columns]"
      ]
     },
     "execution_count": 5,
     "metadata": {},
     "output_type": "execute_result"
    }
   ],
   "source": [
    "# Load and inspect the Occurrence dataset\n",
    "df_occurrence = pd.read_csv(\"./occurrence.txt\", delimiter=\"\\t\", on_bad_lines=\"skip\")\n",
    "df_occurrence.head()"
   ]
  },
  {
   "cell_type": "markdown",
   "metadata": {
    "id": "eyySaw7cZm88"
   },
   "source": [
    "<a id=\"inv\"></a>\n",
    "\n",
    "### **Quick Methods for Dataset Investigation**"
   ]
  },
  {
   "cell_type": "code",
   "execution_count": 6,
   "metadata": {
    "colab": {
     "base_uri": "https://localhost:8080/"
    },
    "id": "JyOZ7PkCZm88",
    "outputId": "15c9e130-1e19-485a-8fe9-0ffe87328107"
   },
   "outputs": [
    {
     "name": "stdout",
     "output_type": "stream",
     "text": [
      "Multimedia Dataset Description:\n",
      "<class 'pandas.core.frame.DataFrame'>\n",
      "RangeIndex: 2149878 entries, 0 to 2149877\n",
      "Data columns (total 15 columns):\n",
      " #   Column        Dtype  \n",
      "---  ------        -----  \n",
      " 0   gbifID        int64  \n",
      " 1   type          object \n",
      " 2   format        object \n",
      " 3   identifier    object \n",
      " 4   references    float64\n",
      " 5   title         float64\n",
      " 6   description   object \n",
      " 7   source        float64\n",
      " 8   audience      float64\n",
      " 9   created       float64\n",
      " 10  creator       object \n",
      " 11  contributor   float64\n",
      " 12  publisher     float64\n",
      " 13  license       object \n",
      " 14  rightsHolder  object \n",
      "dtypes: float64(7), int64(1), object(7)\n",
      "memory usage: 246.0+ MB\n",
      "None\n",
      "\n",
      "###################################################\n",
      "\n",
      "Occurrence Dataset Description:\n",
      "<class 'pandas.core.frame.DataFrame'>\n",
      "RangeIndex: 716563 entries, 0 to 716562\n",
      "Columns: 223 entries, gbifID to iucnRedListCategory\n",
      "dtypes: bool(3), float64(151), int64(5), object(64)\n",
      "memory usage: 1.2+ GB\n",
      "None\n"
     ]
    }
   ],
   "source": [
    "# Data Description\n",
    "## Multimedia Dataset\n",
    "print(\"Multimedia Dataset Description:\")\n",
    "print(df_multimedia.info())\n",
    "\n",
    "print(\"\\n###################################################\\n\")\n",
    "\n",
    "## Occurrence Dataset\n",
    "print(\"Occurrence Dataset Description:\")\n",
    "print(df_occurrence.info())"
   ]
  },
  {
   "cell_type": "code",
   "execution_count": 7,
   "metadata": {
    "colab": {
     "base_uri": "https://localhost:8080/"
    },
    "id": "xZ13-kjPZm88",
    "outputId": "f5796cc8-83ef-49f6-b737-54dda3d7c41e"
   },
   "outputs": [
    {
     "name": "stdout",
     "output_type": "stream",
     "text": [
      "Shape of Multimedia Dataset: (2149878, 15)\n",
      "Shape of Occurrence Dataset: (716563, 223)\n"
     ]
    }
   ],
   "source": [
    "# Summary of the Data\n",
    "## Shape of the Data\n",
    "print(\"Shape of Multimedia Dataset:\", df_multimedia.shape)\n",
    "print(\"Shape of Occurrence Dataset:\", df_occurrence.shape)"
   ]
  },
  {
   "cell_type": "code",
   "execution_count": 8,
   "metadata": {
    "colab": {
     "base_uri": "https://localhost:8080/"
    },
    "id": "woEW4eKFZm88",
    "outputId": "9c701ee7-23ef-4bbe-97a2-6e50cad169f3"
   },
   "outputs": [
    {
     "name": "stdout",
     "output_type": "stream",
     "text": [
      "Data Types in Multimedia Dataset:\n",
      " gbifID            int64\n",
      "type             object\n",
      "format           object\n",
      "identifier       object\n",
      "references      float64\n",
      "title           float64\n",
      "description      object\n",
      "source          float64\n",
      "audience        float64\n",
      "created         float64\n",
      "creator          object\n",
      "contributor     float64\n",
      "publisher       float64\n",
      "license          object\n",
      "rightsHolder     object\n",
      "dtype: object\n",
      "\n",
      "###################################################\n",
      "\n",
      "Data Types in Occurrence Dataset:\n",
      " gbifID                     int64\n",
      "accessRights             float64\n",
      "bibliographicCitation    float64\n",
      "language                 float64\n",
      "license                   object\n",
      "                          ...   \n",
      "level2Gid                 object\n",
      "level2Name                object\n",
      "level3Gid                 object\n",
      "level3Name                object\n",
      "iucnRedListCategory       object\n",
      "Length: 223, dtype: object\n"
     ]
    }
   ],
   "source": [
    "## Data Types\n",
    "print(\"Data Types in Multimedia Dataset:\\n\", df_multimedia.dtypes)\n",
    "\n",
    "print(\"\\n###################################################\\n\")\n",
    "\n",
    "print(\"Data Types in Occurrence Dataset:\\n\", df_occurrence.dtypes)"
   ]
  },
  {
   "cell_type": "code",
   "execution_count": 9,
   "metadata": {
    "colab": {
     "base_uri": "https://localhost:8080/"
    },
    "id": "BbkHNLYSZm88",
    "outputId": "b75aef6f-1481-4c46-bf59-9cc31ab7fb58"
   },
   "outputs": [
    {
     "name": "stdout",
     "output_type": "stream",
     "text": [
      "Descriptive Statistics for Multimedia Dataset:\n",
      "              gbifID  references  title  source  audience  created  \\\n",
      "count  2.149878e+06         0.0    0.0     0.0       0.0      0.0   \n",
      "mean   2.838064e+09         NaN    NaN     NaN       NaN      NaN   \n",
      "std    7.251428e+08         NaN    NaN     NaN       NaN      NaN   \n",
      "min    2.243550e+09         NaN    NaN     NaN       NaN      NaN   \n",
      "25%    2.243744e+09         NaN    NaN     NaN       NaN      NaN   \n",
      "50%    2.432440e+09         NaN    NaN     NaN       NaN      NaN   \n",
      "75%    3.353659e+09         NaN    NaN     NaN       NaN      NaN   \n",
      "max    4.538110e+09         NaN    NaN     NaN       NaN      NaN   \n",
      "\n",
      "       contributor  publisher  \n",
      "count          0.0        0.0  \n",
      "mean           NaN        NaN  \n",
      "std            NaN        NaN  \n",
      "min            NaN        NaN  \n",
      "25%            NaN        NaN  \n",
      "50%            NaN        NaN  \n",
      "75%            NaN        NaN  \n",
      "max            NaN        NaN  \n",
      "\n",
      "###################################################\n",
      "\n",
      "Descriptive Statistics for Occurrence Dataset:\n",
      "              gbifID  accessRights  bibliographicCitation  language  modified  \\\n",
      "count  7.165630e+05           0.0                    0.0       0.0       0.0   \n",
      "mean   2.838079e+09           NaN                    NaN       NaN       NaN   \n",
      "std    7.251669e+08           NaN                    NaN       NaN       NaN   \n",
      "min    2.243550e+09           NaN                    NaN       NaN       NaN   \n",
      "25%    2.243744e+09           NaN                    NaN       NaN       NaN   \n",
      "50%    2.432440e+09           NaN                    NaN       NaN       NaN   \n",
      "75%    3.353659e+09           NaN                    NaN       NaN       NaN   \n",
      "max    4.538110e+09           NaN                    NaN       NaN       NaN   \n",
      "\n",
      "       type  institutionID  collectionID  datasetID  institutionCode  ...  \\\n",
      "count   0.0            0.0           0.0        0.0              0.0  ...   \n",
      "mean    NaN            NaN           NaN        NaN              NaN  ...   \n",
      "std     NaN            NaN           NaN        NaN              NaN  ...   \n",
      "min     NaN            NaN           NaN        NaN              NaN  ...   \n",
      "25%     NaN            NaN           NaN        NaN              NaN  ...   \n",
      "50%     NaN            NaN           NaN        NaN              NaN  ...   \n",
      "75%     NaN            NaN           NaN        NaN              NaN  ...   \n",
      "max     NaN            NaN           NaN        NaN              NaN  ...   \n",
      "\n",
      "       phylumKey  classKey      orderKey     familyKey      genusKey  \\\n",
      "count   700925.0  700925.0  7.008730e+05  7.008730e+05  7.009030e+05   \n",
      "mean        44.0     212.0  7.825089e+05  7.830286e+05  3.077033e+06   \n",
      "std          0.0       0.0  2.266016e+06  2.133781e+06  1.592715e+06   \n",
      "min         44.0     212.0  7.160000e+02  2.877000e+03  1.686160e+06   \n",
      "25%         44.0     212.0  7.290000e+02  5.263000e+03  2.483729e+06   \n",
      "50%         44.0     212.0  7.290000e+02  6.176000e+03  2.490714e+06   \n",
      "75%         44.0     212.0  1.108000e+03  9.348000e+03  2.494421e+06   \n",
      "max         44.0     212.0  1.083356e+07  9.619755e+06  1.130148e+07   \n",
      "\n",
      "       subgenusKey    speciesKey  typifiedName  relativeOrganismQuantity  \\\n",
      "count          0.0  6.999970e+05           0.0                       0.0   \n",
      "mean           NaN  4.125493e+06           NaN                       NaN   \n",
      "std            NaN  2.399844e+06           NaN                       NaN   \n",
      "min            NaN  2.473325e+06           NaN                       NaN   \n",
      "25%            NaN  2.486405e+06           NaN                       NaN   \n",
      "50%            NaN  2.493091e+06           NaN                       NaN   \n",
      "75%            NaN  5.231872e+06           NaN                       NaN   \n",
      "max            NaN  1.170532e+07           NaN                       NaN   \n",
      "\n",
      "       projectId  \n",
      "count        0.0  \n",
      "mean         NaN  \n",
      "std          NaN  \n",
      "min          NaN  \n",
      "25%          NaN  \n",
      "50%          NaN  \n",
      "75%          NaN  \n",
      "max          NaN  \n",
      "\n",
      "[8 rows x 156 columns]\n"
     ]
    }
   ],
   "source": [
    "## Descriptive Statistics\n",
    "print(\"Descriptive Statistics for Multimedia Dataset:\\n\", df_multimedia.describe())\n",
    "\n",
    "print(\"\\n###################################################\\n\")\n",
    "\n",
    "print(\"Descriptive Statistics for Occurrence Dataset:\\n\", df_occurrence.describe())"
   ]
  },
  {
   "cell_type": "code",
   "execution_count": 9,
   "metadata": {
    "colab": {
     "base_uri": "https://localhost:8080/"
    },
    "id": "S22SZWyLZm89",
    "outputId": "2db964f8-b74a-4b24-c1c0-ac29cf598d6f",
    "scrolled": true
   },
   "outputs": [
    {
     "name": "stdout",
     "output_type": "stream",
     "text": [
      "NaN values in Multimedia Dataset:\n",
      " gbifID                0\n",
      "type                  0\n",
      "format                0\n",
      "identifier            0\n",
      "references      2149878\n",
      "title           2149878\n",
      "description          99\n",
      "source          2149878\n",
      "audience        2149878\n",
      "created         2149878\n",
      "creator               0\n",
      "contributor     2149878\n",
      "publisher       2149878\n",
      "license               0\n",
      "rightsHolder          0\n",
      "dtype: int64\n",
      "\n",
      "###################################################\n",
      "\n",
      "NaN values in Occurrence Dataset:\n",
      "\n",
      "gbifID          0\n",
      "accessRights          716563\n",
      "bibliographicCitation          716563\n",
      "language          716563\n",
      "license          0\n",
      "modified          716563\n",
      "publisher          0\n",
      "references          0\n",
      "rightsHolder          0\n",
      "type          716563\n",
      "institutionID          716563\n",
      "collectionID          716563\n",
      "datasetID          716563\n",
      "institutionCode          716563\n",
      "collectionCode          0\n",
      "datasetName          716563\n",
      "ownerInstitutionCode          716563\n",
      "basisOfRecord          0\n",
      "informationWithheld          716563\n",
      "dataGeneralizations          716563\n",
      "dynamicProperties          641959\n",
      "occurrenceID          0\n",
      "catalogNumber          0\n",
      "recordNumber          716563\n",
      "recordedBy          0\n",
      "recordedByID          716563\n",
      "individualCount          716563\n",
      "organismQuantity          716563\n",
      "organismQuantityType          716563\n",
      "sex          636346\n",
      "lifeStage          605767\n",
      "reproductiveCondition          716563\n",
      "caste          716563\n",
      "behavior          8829\n",
      "vitality          716563\n",
      "establishmentMeans          716563\n",
      "degreeOfEstablishment          716563\n",
      "pathway          716563\n",
      "georeferenceVerificationStatus          716563\n",
      "occurrenceStatus          0\n",
      "preparations          88\n",
      "disposition          716563\n",
      "associatedOccurrences          716563\n",
      "associatedReferences          716563\n",
      "associatedSequences          716563\n",
      "associatedTaxa          490842\n",
      "otherCatalogNumbers          715798\n",
      "occurrenceRemarks          716563\n",
      "organismID          716563\n",
      "organismName          716563\n",
      "organismScope          716563\n",
      "associatedOrganisms          716563\n",
      "previousIdentifications          716563\n",
      "organismRemarks          716563\n",
      "materialEntityID          716563\n",
      "materialEntityRemarks          716563\n",
      "verbatimLabel          716563\n",
      "materialSampleID          716563\n",
      "eventID          716563\n",
      "parentEventID          716563\n",
      "eventType          716563\n",
      "fieldNumber          716563\n",
      "eventDate          11997\n",
      "eventTime          63886\n",
      "startDayOfYear          11997\n",
      "endDayOfYear          11997\n",
      "year          11997\n",
      "month          11997\n",
      "day          11997\n",
      "verbatimEventDate          20\n",
      "habitat          716563\n",
      "samplingProtocol          716563\n",
      "sampleSizeValue          716563\n",
      "sampleSizeUnit          716563\n",
      "samplingEffort          716563\n",
      "fieldNotes          59438\n",
      "eventRemarks          716563\n",
      "locationID          716563\n",
      "higherGeographyID          716563\n",
      "higherGeography          716563\n",
      "continent          6370\n",
      "waterBody          716563\n",
      "islandGroup          716563\n",
      "island          716563\n",
      "countryCode          962\n",
      "stateProvince          716563\n",
      "county          716563\n",
      "municipality          716563\n",
      "locality          51\n",
      "verbatimLocality          716563\n",
      "verbatimElevation          0\n",
      "verticalDatum          716563\n",
      "verbatimDepth          716563\n",
      "minimumDistanceAboveSurfaceInMeters          716563\n",
      "maximumDistanceAboveSurfaceInMeters          716563\n",
      "locationAccordingTo          716563\n",
      "locationRemarks          716563\n",
      "decimalLatitude          17778\n",
      "decimalLongitude          17778\n",
      "coordinateUncertaintyInMeters          716563\n",
      "coordinatePrecision          716563\n",
      "pointRadiusSpatialFit          716563\n",
      "verbatimCoordinateSystem          716563\n",
      "verbatimSRS          716563\n",
      "footprintWKT          716563\n",
      "footprintSRS          716563\n",
      "footprintSpatialFit          716563\n",
      "georeferencedBy          716563\n",
      "georeferencedDate          716563\n",
      "georeferenceProtocol          716563\n",
      "georeferenceSources          716563\n",
      "georeferenceRemarks          716563\n",
      "geologicalContextID          716563\n",
      "earliestEonOrLowestEonothem          716563\n",
      "latestEonOrHighestEonothem          716563\n",
      "earliestEraOrLowestErathem          716563\n",
      "latestEraOrHighestErathem          716563\n",
      "earliestPeriodOrLowestSystem          716563\n",
      "latestPeriodOrHighestSystem          716563\n",
      "earliestEpochOrLowestSeries          716563\n",
      "latestEpochOrHighestSeries          716563\n",
      "earliestAgeOrLowestStage          716563\n",
      "latestAgeOrHighestStage          716563\n",
      "lowestBiostratigraphicZone          716563\n",
      "highestBiostratigraphicZone          716563\n",
      "lithostratigraphicTerms          716563\n",
      "group          716563\n",
      "formation          716563\n",
      "member          716563\n",
      "bed          716563\n",
      "identificationID          716563\n",
      "verbatimIdentification          716563\n",
      "identificationQualifier          716563\n",
      "typeStatus          716563\n",
      "identifiedBy          716563\n",
      "identifiedByID          716563\n",
      "dateIdentified          716563\n",
      "identificationReferences          716563\n",
      "identificationVerificationStatus          716563\n",
      "identificationRemarks          714844\n",
      "taxonID          716563\n",
      "scientificNameID          716563\n",
      "acceptedNameUsageID          0\n",
      "parentNameUsageID          716563\n",
      "originalNameUsageID          716563\n",
      "nameAccordingToID          716563\n",
      "namePublishedInID          716563\n",
      "taxonConceptID          716563\n",
      "scientificName          0\n",
      "acceptedNameUsage          716563\n",
      "parentNameUsage          716563\n",
      "originalNameUsage          716563\n",
      "nameAccordingTo          716563\n",
      "namePublishedIn          716563\n",
      "namePublishedInYear          716563\n",
      "higherClassification          0\n",
      "kingdom          0\n",
      "phylum          15638\n",
      "class          15638\n",
      "order          15690\n",
      "superfamily          716563\n",
      "family          15690\n",
      "subfamily          716563\n",
      "tribe          716563\n",
      "subtribe          716563\n",
      "genus          15660\n",
      "genericName          15662\n",
      "subgenus          716563\n",
      "infragenericEpithet          716563\n",
      "specificEpithet          16481\n",
      "infraspecificEpithet          586333\n",
      "cultivarEpithet          716563\n",
      "taxonRank          0\n",
      "verbatimTaxonRank          716563\n",
      "vernacularName          0\n",
      "nomenclaturalCode          0\n",
      "taxonomicStatus          0\n",
      "nomenclaturalStatus          716563\n",
      "taxonRemarks          716563\n",
      "datasetKey          0\n",
      "publishingCountry          0\n",
      "lastInterpreted          0\n",
      "elevation          716563\n",
      "elevationAccuracy          716563\n",
      "depth          716563\n",
      "depthAccuracy          716563\n",
      "distanceFromCentroidInMeters          713987\n",
      "issue          6090\n",
      "mediaType          0\n",
      "hasCoordinate          0\n",
      "hasGeospatialIssues          0\n",
      "taxonKey          0\n",
      "acceptedTaxonKey          0\n",
      "kingdomKey          0\n",
      "phylumKey          15638\n",
      "classKey          15638\n",
      "orderKey          15690\n",
      "familyKey          15690\n",
      "genusKey          15660\n",
      "subgenusKey          716563\n",
      "speciesKey          16566\n",
      "species          16566\n",
      "acceptedScientificName          0\n",
      "verbatimScientificName          0\n",
      "typifiedName          716563\n",
      "protocol          0\n",
      "lastParsed          0\n",
      "lastCrawled          0\n",
      "repatriated          1\n",
      "relativeOrganismQuantity          716563\n",
      "projectId          716563\n",
      "isSequenced          0\n",
      "gbifRegion          1\n",
      "publishedByGbifRegion          0\n",
      "level0Gid          27701\n",
      "level0Name          27701\n",
      "level1Gid          28158\n",
      "level1Name          28158\n",
      "level2Gid          34751\n",
      "level2Name          35046\n",
      "level3Gid          351799\n",
      "level3Name          355824\n",
      "iucnRedListCategory          129735\n"
     ]
    }
   ],
   "source": [
    "## Check for NaN values\n",
    "print(\"NaN values in Multimedia Dataset:\\n\", df_multimedia.isna().sum())\n",
    "\n",
    "print(\"\\n###################################################\\n\")\n",
    "\n",
    "print(\"NaN values in Occurrence Dataset:\\n\")\n",
    "for col in df_occurrence.columns:\n",
    "    print(f\"{col}          {df_occurrence[col].isna().sum()}\")"
   ]
  },
  {
   "cell_type": "code",
   "execution_count": 10,
   "metadata": {
    "colab": {
     "base_uri": "https://localhost:8080/"
    },
    "id": "aMvasMqIZm89",
    "outputId": "0d74b221-7c58-4817-f860-a860636eabb4"
   },
   "outputs": [
    {
     "name": "stdout",
     "output_type": "stream",
     "text": [
      "Total number of gbifID in Multimedia dataset: 716563\n",
      "Occurrences of 'Oscillogram' type data: 716626\n",
      "Occurrences of 'Spectrogram' type data: 716626\n",
      "Occurrences of 'Sound' type data: 716626\n",
      "Total number of gbifID in Occurrence dataset: 716563\n"
     ]
    }
   ],
   "source": [
    "# Count occurrences of \"Oscillogram\" and \"Spectrogram\" in the description column\n",
    "osc_count = df_multimedia['description'].fillna('').str.contains(\"Oscillogram\").sum()\n",
    "spect_count = df_multimedia['description'].fillna('').str.contains(\"Spectrogram\").sum()\n",
    "sound_count = df_multimedia['type'].fillna('').str.contains(\"Sound\").sum()\n",
    "\n",
    "# Print results\n",
    "print(f\"Total number of gbifID in Multimedia dataset: {len(set(df_occurrence['gbifID']))}\")\n",
    "print(f\"Occurrences of 'Oscillogram' type data: {osc_count}\")\n",
    "print(f\"Occurrences of 'Spectrogram' type data: {spect_count}\")\n",
    "print(f\"Occurrences of 'Sound' type data: {sound_count}\")\n",
    "\n",
    "# Check that these numbers match with occurrences in the Occurrence dataset\n",
    "print(f'Total number of gbifID in Occurrence dataset: {len(set(df_occurrence[\"gbifID\"]))}')"
   ]
  },
  {
   "cell_type": "markdown",
   "metadata": {
    "id": "o-F9b6DQZm89"
   },
   "source": [
    "<a id=\"dum_inv\"></a>\n",
    "\n",
    "### **Summary of Dataset Analysis**\n",
    "\n",
    "#### **Multimedia Dataset:**\n",
    "- Contains 2,149,878 entries and 15 columns.\n",
    "- Columns `references`, `title`, `source`, `audience`, `created`, `contributor`, and `publisher` are entirely NaN (missing values).\n",
    "- The `description` column has 99 missing values.\n",
    "- Counts for 'Oscillogram' and 'Spectrogram' type data are equal (716,626) and match the total number of 'Sound' type data.\n",
    "\n",
    "#### **Occurrence Dataset:**\n",
    "- Contains 716,563 entries and 223 columns.\n",
    "- Many columns have a significant number of NaN values, with some columns being entirely NaN.\n",
    "- Descriptive statistics are available for numerical columns, but the dataset's complexity requires careful handling of missing values.\n",
    "\n",
    "#### **Analysis Insights:**\n",
    "- There is a high degree of missing data in several columns of the Multimedia dataset, which requires data cleaning.\n",
    "- The Occurrence dataset is large and complex, necessitating imputation or exclusion of certain features for analysis.\n",
    "- The near-exact match between the number of unique `gbifID` in the Occurrence dataset and the counts of 'Oscillogram', 'Spectrogram', and 'Sound' type data in the Multimedia dataset suggests a strong correspondence between occurrences and their multimedia records. However, there are 63 more multimedia records than unique `gbifID`, indicating some missing occurrences. These samples with missing occurrences can be discarded as they are not critical to the analysis."
   ]
  },
  {
   "cell_type": "markdown",
   "metadata": {
    "id": "hcOID0rUZm89"
   },
   "source": [
    "<a id=\"preproc\"></a>\n",
    "\n",
    "## **Data Preprocessing**"
   ]
  },
  {
   "cell_type": "code",
   "execution_count": 12,
   "metadata": {
    "colab": {
     "base_uri": "https://localhost:8080/",
     "height": 206
    },
    "id": "wD5m4mD6Zm89",
    "outputId": "09a445e6-49b1-4409-b9ff-e072144779cf"
   },
   "outputs": [
    {
     "data": {
      "text/html": [
       "<div>\n",
       "<style scoped>\n",
       "    .dataframe tbody tr th:only-of-type {\n",
       "        vertical-align: middle;\n",
       "    }\n",
       "\n",
       "    .dataframe tbody tr th {\n",
       "        vertical-align: top;\n",
       "    }\n",
       "\n",
       "    .dataframe thead th {\n",
       "        text-align: right;\n",
       "    }\n",
       "</style>\n",
       "<table border=\"1\" class=\"dataframe\">\n",
       "  <thead>\n",
       "    <tr style=\"text-align: right;\">\n",
       "      <th></th>\n",
       "      <th>gbifID</th>\n",
       "      <th>continent</th>\n",
       "      <th>countryCode</th>\n",
       "      <th>family</th>\n",
       "      <th>species</th>\n",
       "      <th>identifier</th>\n",
       "    </tr>\n",
       "  </thead>\n",
       "  <tbody>\n",
       "    <tr>\n",
       "      <th>0</th>\n",
       "      <td>2243621334</td>\n",
       "      <td>SOUTH_AMERICA</td>\n",
       "      <td>EC</td>\n",
       "      <td>Turdidae</td>\n",
       "      <td>Turdus fuscater</td>\n",
       "      <td>https://xeno-canto.org/sounds/uploaded/OH38YHK...</td>\n",
       "    </tr>\n",
       "    <tr>\n",
       "      <th>1</th>\n",
       "      <td>2243773710</td>\n",
       "      <td>SOUTH_AMERICA</td>\n",
       "      <td>EC</td>\n",
       "      <td>Parulidae</td>\n",
       "      <td>Myiothlypis coronata</td>\n",
       "      <td>https://xeno-canto.org/sounds/uploaded/OH38YHK...</td>\n",
       "    </tr>\n",
       "    <tr>\n",
       "      <th>6</th>\n",
       "      <td>2243592931</td>\n",
       "      <td>SOUTH_AMERICA</td>\n",
       "      <td>PE</td>\n",
       "      <td>Grallariidae</td>\n",
       "      <td>Grallaria quitensis</td>\n",
       "      <td>https://xeno-canto.org/sounds/uploaded/AEFZWKW...</td>\n",
       "    </tr>\n",
       "    <tr>\n",
       "      <th>31</th>\n",
       "      <td>2243580386</td>\n",
       "      <td>SOUTH_AMERICA</td>\n",
       "      <td>PE</td>\n",
       "      <td>Cardinalidae</td>\n",
       "      <td>Habia rubica</td>\n",
       "      <td>https://xeno-canto.org/sounds/uploaded/OH38YHK...</td>\n",
       "    </tr>\n",
       "    <tr>\n",
       "      <th>42</th>\n",
       "      <td>2243729480</td>\n",
       "      <td>NORTH_AMERICA</td>\n",
       "      <td>PA</td>\n",
       "      <td>Troglodytidae</td>\n",
       "      <td>Cantorchilus thoracicus</td>\n",
       "      <td>https://xeno-canto.org/sounds/uploaded/MCNTDLD...</td>\n",
       "    </tr>\n",
       "  </tbody>\n",
       "</table>\n",
       "</div>"
      ],
      "text/plain": [
       "        gbifID      continent countryCode         family  \\\n",
       "0   2243621334  SOUTH_AMERICA          EC       Turdidae   \n",
       "1   2243773710  SOUTH_AMERICA          EC      Parulidae   \n",
       "6   2243592931  SOUTH_AMERICA          PE   Grallariidae   \n",
       "31  2243580386  SOUTH_AMERICA          PE   Cardinalidae   \n",
       "42  2243729480  NORTH_AMERICA          PA  Troglodytidae   \n",
       "\n",
       "                    species                                         identifier  \n",
       "0           Turdus fuscater  https://xeno-canto.org/sounds/uploaded/OH38YHK...  \n",
       "1      Myiothlypis coronata  https://xeno-canto.org/sounds/uploaded/OH38YHK...  \n",
       "6       Grallaria quitensis  https://xeno-canto.org/sounds/uploaded/AEFZWKW...  \n",
       "31             Habia rubica  https://xeno-canto.org/sounds/uploaded/OH38YHK...  \n",
       "42  Cantorchilus thoracicus  https://xeno-canto.org/sounds/uploaded/MCNTDLD...  "
      ]
     },
     "execution_count": 12,
     "metadata": {},
     "output_type": "execute_result"
    }
   ],
   "source": [
    "# Filter for Spectrogram data\n",
    "df_multimedia_spectrogram = df_multimedia[df_multimedia['description'].fillna('').str.contains(\"Spectrogram\")]\n",
    "\n",
    "\n",
    "# Merge relevant columns from Occurrence dataset with Multimedia dataset\n",
    "columns_to_be_merged = [\n",
    "    \"gbifID\", \"behavior\", \"continent\", \"countryCode\", \"family\", \"species\"\n",
    "]\n",
    "\n",
    "df_merged = pd.merge(df_occurrence[columns_to_be_merged], df_multimedia_spectrogram, on=\"gbifID\")\n",
    "\n",
    "# Drop unnecessary columns\n",
    "columns_to_drop = [\n",
    "    \"title\", \"publisher\", \"description\", \"source\", \"audience\",\n",
    "    \"creator\", \"contributor\", \"license\", \"rightsHolder\",\n",
    "    \"created\", \"format\", \"type\", \"references\"\n",
    "]\n",
    "\n",
    "df_merged_clean = df_merged.drop(columns_to_drop, axis=1)\n",
    "\n",
    "# Drop rows with missing 'identifier' values\n",
    "df_merged_clean = df_merged_clean.dropna(subset=['identifier'])\n",
    "\n",
    "# Filter for Call behavior\n",
    "df_merged_clean = df_merged_clean[df_merged_clean['behavior'] == \"call\"]\n",
    "\n",
    "# Drop behavior column\n",
    "df_merged_clean = df_merged_clean.drop(['behavior'], axis=1)\n",
    "\n",
    "# Display df\n",
    "df_merged_clean.head()"
   ]
  },
  {
   "cell_type": "markdown",
   "metadata": {
    "id": "n2pKPhGMZm89"
   },
   "source": [
    "**Above, we are doing the following:**\n",
    "\n",
    "- We are keeping only the spectrogram data from the Multimedia dataset because we are initially focusing on training our model using the image of the spectrogram. Spectrograms provide a visual representation of the frequency spectrum of sounds, which is useful for identifying bird species based on their vocalizations.\n",
    "- We are merging relevant columns from the Occurrence dataset with the Multimedia dataset to create a single dataset that includes both the metadata about the bird sounds (e.g., species, behavior, geographical information) and the associated spectrogram images. This merged dataset will be used for training and testing our machine-learning model.\n",
    "- We are dropping columns that are not relevant to our analysis, such as `title`, `publisher`, `description`, etc. These columns do not provide useful information for the classification of bird sounds and can be removed to simplify the dataset.\n",
    "- We are dropping rows with missing 'identifier' values because these rows do not have a corresponding spectrogram image. Since our model relies on the spectrogram images for training, samples without images cannot be used. There are not many samples like this, so removing them is not expected to significantly impact the performance of our model.\n",
    "- We are keeping only the 'call' behavior from the dataset because we are focusing on training our model to these types of sounds. Given that the calls are shorter and the spectrogram provided is limited to only the first 10 seconds, we believe that 'call' type behaviors will capture the calls more completely. Then, we drop that column given that we already filtered according to it."
   ]
  },
  {
   "cell_type": "markdown",
   "metadata": {
    "id": "Th6klO1iZm89"
   },
   "source": [
    "**Before proceeding to our base-line model, we would like to look at the missing values once more and decide what the final predictors we would like to include in our dataset:**"
   ]
  },
  {
   "cell_type": "code",
   "execution_count": 13,
   "metadata": {
    "colab": {
     "base_uri": "https://localhost:8080/"
    },
    "id": "XBrxrvCBZm89",
    "outputId": "de7e2f31-a6cb-4854-9fb4-cc2a7d338dfc"
   },
   "outputs": [
    {
     "name": "stdout",
     "output_type": "stream",
     "text": [
      "             gbifID\n",
      "count  2.090320e+05\n",
      "mean   2.772183e+09\n",
      "std    7.128529e+08\n",
      "min    2.243550e+09\n",
      "25%    2.243718e+09\n",
      "50%    2.243887e+09\n",
      "75%    3.076293e+09\n",
      "max    4.538110e+09\n",
      "count         205478\n",
      "unique           237\n",
      "top       Tyrannidae\n",
      "freq           11200\n",
      "Name: family, dtype: object\n",
      "count          205268\n",
      "unique           9177\n",
      "top       Parus major\n",
      "freq             2856\n",
      "Name: species, dtype: object\n",
      "Missing 'family' values: 3554\n"
     ]
    }
   ],
   "source": [
    "# Find the best response class\n",
    "print(df_merged_clean.describe())\n",
    "print(df_merged_clean.family.describe())\n",
    "print(df_merged_clean.species.describe())\n",
    "\n",
    "# Print missing values\n",
    "print(f\"Missing 'family' values: {df_merged_clean.family.isna().sum()}\")"
   ]
  },
  {
   "cell_type": "markdown",
   "metadata": {
    "id": "EVxdLPwxZm8-"
   },
   "source": [
    "**Based on the above**, we can see that family appears in the majority of the rows and that the number of families is significantly smaller than the number of species, so we decided to focus on predicting the family rather than the specific species under the assumption that species from the same family will have similar 'call' sounds. This should significantly increase the accuracy of our model given that there would be more samples per family.\n",
    "\n",
    "**Bellow**, we will adjust the dataset accordingly."
   ]
  },
  {
   "cell_type": "code",
   "execution_count": 14,
   "metadata": {
    "id": "YiXdDedbZm8-"
   },
   "outputs": [],
   "source": [
    "# Adjust for 'family' as the predicted variable\n",
    "# df_merged_clean = df_merged_clean.drop(['species'], axis=1)\n",
    "# df_merged_clean = df_merged_clean.dropna(subset=['family'])\n",
    "df_merged_clean = df_merged_clean.drop(['family'], axis=1)\n",
    "df_merged_clean = df_merged_clean.dropna(subset=['species'])"
   ]
  },
  {
   "cell_type": "markdown",
   "metadata": {
    "id": "CJWLJl72Zm8-"
   },
   "source": [
    "**We also wanted to investigate the distribution of families before proceeding:**"
   ]
  },
  {
   "cell_type": "code",
   "execution_count": 15,
   "metadata": {
    "colab": {
     "base_uri": "https://localhost:8080/",
     "height": 607
    },
    "id": "WN2BBLhNZm8-",
    "outputId": "ecafbf7a-e4e7-4f06-df85-e140b86b36ac"
   },
   "outputs": [
    {
     "data": {
      "image/png": "[encoded data removed]",
      "text/plain": [
       "<Figure size 1000x600 with 1 Axes>"
      ]
     },
     "metadata": {},
     "output_type": "display_data"
    }
   ],
   "source": [
    "# Count the occurrences of each family\n",
    "# family_counts = df_merged_clean['family'].value_counts()\n",
    "species_counts = df_merged_clean['species'].value_counts()\n",
    "# Plotting\n",
    "plt.figure(figsize=(10, 6))\n",
    "species_counts.plot(kind='bar')\n",
    "plt.title('Distributing of Unique Appearances of Each Species')\n",
    "plt.xlabel('Species')\n",
    "plt.xticks([])\n",
    "plt.ylabel('Count')\n",
    "plt.xticks(rotation=45, ha='right')\n",
    "plt.tight_layout()\n",
    "plt.show()"
   ]
  },
  {
   "cell_type": "markdown",
   "metadata": {
    "id": "dgGVeWGCZm8-"
   },
   "source": [
    "When we download the audio files, we will only select the 10 most common species, so that we won't have class imbalances."
   ]
  },
  {
   "cell_type": "markdown",
   "metadata": {
    "id": "cRly8hI8Zm9C"
   },
   "source": [
    "<a id=\"data_post\"></a>\n",
    "\n",
    "## **Data Analysis post-preprocessing**"
   ]
  },
  {
   "cell_type": "code",
   "execution_count": 20,
   "metadata": {
    "colab": {
     "base_uri": "https://localhost:8080/",
     "height": 717
    },
    "id": "c1Y-dti9Zm9D",
    "outputId": "e2cff29e-833f-4230-b4e5-2b94a8b529ba"
   },
   "outputs": [
    {
     "data": {
      "image/png": "[encoded data removed]",
      "text/plain": [
       "<Figure size 1200x800 with 1 Axes>"
      ]
     },
     "metadata": {},
     "output_type": "display_data"
    }
   ],
   "source": [
    "# Histograms for each feature\n",
    "sampled_df.hist(figsize=(12, 8))\n",
    "plt.show()"
   ]
  },
  {
   "cell_type": "code",
   "execution_count": 21,
   "metadata": {
    "colab": {
     "base_uri": "https://localhost:8080/"
    },
    "id": "VM8uAyPNZm9D",
    "outputId": "72d0ece5-a0d8-448d-f1c3-4179a9d85c9f"
   },
   "outputs": [
    {
     "name": "stdout",
     "output_type": "stream",
     "text": [
      "<class 'pandas.core.frame.DataFrame'>\n",
      "RangeIndex: 1000 entries, 0 to 999\n",
      "Data columns (total 5 columns):\n",
      " #   Column       Non-Null Count  Dtype \n",
      "---  ------       --------------  ----- \n",
      " 0   gbifID       1000 non-null   int64 \n",
      " 1   continent    989 non-null    object\n",
      " 2   countryCode  998 non-null    object\n",
      " 3   species      1000 non-null   object\n",
      " 4   image        1000 non-null   object\n",
      "dtypes: int64(1), object(4)\n",
      "memory usage: 39.2+ KB\n"
     ]
    }
   ],
   "source": [
    "# Check our processed data\n",
    "sampled_df.info()"
   ]
  },
  {
   "cell_type": "markdown",
   "metadata": {
    "id": "SrIUQDLiZm9D"
   },
   "source": [
    "Since we are aiming to only use the image of the spectrogram to predict the family and not use the geographic details unless our model underperforms, we don't mind for now that some of the continents and countryCodes are missing for some of our samples."
   ]
  },
  {
   "cell_type": "markdown",
   "metadata": {
    "id": "EM-ccl2BZm9D"
   },
   "source": [
    "**Some more analysis of the new data:**"
   ]
  },
  {
   "cell_type": "markdown",
   "metadata": {
    "id": "kFnaySFaZm9D"
   },
   "source": [
    "To create our pickle dataset, we started by collecting bird spectrogram images from various online sources, ensuring a diverse representation of bird families. We then preprocessed these images by resizing them to a uniform dimension, converting them to grayscale, and applying other image enhancement techniques to optimize them for analysis. Each image was labeled with the corresponding bird family name, allowing us to map the visual data to specific categories. We structured our dataset by separating the features (X), which are the processed images, from the labels (y), which denote the bird families. Additionally, we included metadata such as gbifIDs, and unique identifiers for each bird species, to enrich our dataset and facilitate further analysis. This meticulous process of data collection, preprocessing, and labeling culminated in the creation of a comprehensive dataset, which we then serialized into a pickle file for convenient storage and access in our machine-learning workflows."
   ]
  },
  {
   "cell_type": "code",
   "execution_count": 22,
   "metadata": {
    "colab": {
     "base_uri": "https://localhost:8080/",
     "height": 176
    },
    "id": "QmWO9AnLZm9D",
    "outputId": "18e76ae7-68d0-44a1-a567-989483a11296"
   },
   "outputs": [],
   "source": [
    "# Load the dataset from a pickle file\n",
    "with open('dataset.pkl', 'rb') as f:\n",
    "    dataset = pickle.load(f)"
   ]
  },
  {
   "cell_type": "markdown",
   "metadata": {
    "id": "Ux6k_4vvZm9D"
   },
   "source": [
    "We utilized the merged and cleaned dataset created by you and Oleg, randomized the rows, and downloaded the first 2000 spectrogram images. Due to some download failures, the final count was slightly less than 2000. We organized the data into a dictionary, with 'X' representing the images, 'Y' indicating the family labels, 'gbifID' storing the unique identifiers for each spectrogram, and 'labels' mapping indices to family names. We then serialized this dataset into a pickle file using `pickle.dump` for easy loading into different notebooks.\n",
    "\n",
    "In a subsequent notebook, we flattened each image to perform Principal Component Analysis (PCA) and plotted the first two principal components. However, the plot revealed that the families were closely clustered with a few outliers, and the high number of classes (over 200) made the color coding less informative.\n",
    "\n",
    "Lastly, we created a histogram of the sample to check for any significant biases and ensure a fair representation of the data."
   ]
  },
  {
   "cell_type": "code",
   "execution_count": 23,
   "metadata": {
    "id": "nswqQDXwZm9D"
   },
   "outputs": [
    {
     "data": {
      "image/png": "[encoded data removed]",
      "text/plain": [
       "<Figure size 640x480 with 1 Axes>"
      ]
     },
     "metadata": {},
     "output_type": "display_data"
    }
   ],
   "source": [
    "# Extract features (X), labels (y), unique identifiers (gbifIDs), and label mapping (idx2labels) from the dataset\n",
    "X, y, gbifIDs, idx2labels = dataset[\"X\"], dataset[\"Y\"], dataset[\"gbifID\"], dataset[\"labels\"]\n",
    "\n",
    "# PCA plot to visualize potential natural groupings in the data\n",
    "# Reshape the spectrogram data to a 2D array suitable for PCA\n",
    "X_reshaped = np.reshape(X, (X.shape[0], 81 * 240))\n",
    "\n",
    "# Perform PCA to reduce the dimensionality to 2 components\n",
    "pca = PCA(n_components=2).fit(X_reshaped)\n",
    "family_PCA = pca.transform(X_reshaped)\n",
    "\n",
    "# Plot the first two principal components, coloring points by their labels (bird families)\n",
    "plt.scatter(family_PCA[:, 0], family_PCA[:, 1], c=y)\n",
    "plt.xlabel(f'PCA Component 1 ({pca.explained_variance_ratio_[0]:.2%} variance explained)')\n",
    "plt.ylabel(f'PCA Component 2 ({pca.explained_variance_ratio_[1]:.2%} variance explained)')\n",
    "plt.title('Families of Bird Spectrograms Projected onto First 2 Principal Components')\n",
    "plt.show()"
   ]
  },
  {
   "cell_type": "markdown",
   "metadata": {
    "id": "s1-YEUrqZm9E"
   },
   "source": [
    "The PCA plot appears uninformative due to the lack of discernible groupings. However, this might not accurately reflect the true structure of the data, as we are compressing high-dimensional information into just two dimensions. Consequently, potential groupings might exist, but they are not visible in this 2D representation. Additionally, the plot's utility is further diminished by the sheer number of classes, making it impossible to include a comprehensive legend or distinguish between colors effectively."
   ]
  },
  {
   "cell_type": "code",
   "execution_count": null,
   "metadata": {},
   "outputs": [],
   "source": []
  }
 ],
 "metadata": {
  "colab": {
   "provenance": [],
   "toc_visible": true
  },
  "kernelspec": {
   "display_name": "Python 3 (ipykernel)",
   "language": "python",
   "name": "python3"
  },
  "language_info": {
   "codemirror_mode": {
    "name": "ipython",
    "version": 3
   },
   "file_extension": ".py",
   "mimetype": "text/x-python",
   "name": "python",
   "nbconvert_exporter": "python",
   "pygments_lexer": "ipython3",
   "version": "3.11.7"
  }
 },
 "nbformat": 4,
 "nbformat_minor": 4
}
